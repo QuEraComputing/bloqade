{
 "cells": [
  {
   "cell_type": "code",
   "execution_count": null,
   "id": "24449476",
   "metadata": {},
   "outputs": [],
   "source": [
    "import bloqade\n",
    "import kirin\n",
    "import bloqade.squin"
   ]
  },
  {
   "cell_type": "markdown",
   "id": "94f221f9",
   "metadata": {},
   "source": [
    "## Generating circuit kernels\n",
    "\n",
    "What is `bloqade.squin`. What is `kirin`. Reference for squin statements."
   ]
  },
  {
   "cell_type": "markdown",
   "id": "8439e2d9",
   "metadata": {},
   "source": [
    "### Option A: Directly building circuits with `squin` dialect"
   ]
  },
  {
   "cell_type": "code",
   "execution_count": null,
   "id": "dd40c717",
   "metadata": {},
   "outputs": [],
   "source": [
    "# Bell state prep.\n",
    "@bloqade.squin.kernel\n",
    "def main_GHZ_state():\n",
    "    qubits = bloqade.squin.qubit(8)\n",
    "    bloqade.squin.h(qubits[0]) # Apply a gate directly,\n",
    "    cnot = bloqade.squin.cnot() # or abstractly define the gate first,\n",
    "    for i in range(7):\n",
    "        bloqade.squin.apply(cnot, qubits[i], qubits[i+1]) # then apply it.\n",
    "    bitstrings = bloqade.squin.measure(*qubits)\n",
    "    return bitstrings\n",
    "    "
   ]
  },
  {
   "cell_type": "code",
   "execution_count": null,
   "id": "95a67621",
   "metadata": {},
   "outputs": [],
   "source": [
    "# Incremental\n",
    "builder_block = kirin.BlockBuilder(dialect=bloqade.squin.kernel)\n",
    "qubits = builder_block.append(bloqade.squin.qubit.new(2)).result\n",
    "builder_block.append(bloqade.squin.h(qubits[0]))\n",
    "builder_block.append(bloqade.squin.cx(qubits[0], qubits[1]))\n",
    "bitstrings = builder_block.append(bloqade.squin.measure(qubits[0],qubits[1])).result\n",
    "builder_block.append(kirin.Return(bitstrings))\n",
    "\n",
    "main_from_builder = builder_block.kernel()"
   ]
  },
  {
   "cell_type": "markdown",
   "id": "e64ba59e",
   "metadata": {},
   "source": [
    "### Option B: Building circuits in Cirq and other SDKs"
   ]
  },
  {
   "cell_type": "code",
   "execution_count": null,
   "id": "708ad228",
   "metadata": {},
   "outputs": [
    {
     "name": "stdout",
     "output_type": "stream",
     "text": [
      "              ┌──┐   ┌────┐\n",
      "0: ───H───@────@──────@───────\n",
      "          │    │      │\n",
      "1: ───────X────┼@─────┼@──────\n",
      "               ││     ││\n",
      "2: ────────────X┼─────┼┼@─────\n",
      "                │     │││\n",
      "3: ─────────────X─────┼┼┼@────\n",
      "                      ││││\n",
      "4: ───────────────────X┼┼┼────\n",
      "                       │││\n",
      "5: ────────────────────X┼┼────\n",
      "                        ││\n",
      "6: ─────────────────────X┼────\n",
      "                         │\n",
      "7: ──────────────────────X────\n",
      "              └──┘   └────┘\n"
     ]
    }
   ],
   "source": [
    "import cirq\n",
    "\n",
    "def ghz_prep()-> cirq.Circuit:\n",
    "    \"\"\"\n",
    "    Builder function that returns a simple 8-qubit\n",
    "    GHZ state prep using a log-depth circuit\n",
    "    \"\"\"\n",
    "    qubits = cirq.LineQubit.range(8)\n",
    "    return cirq.Circuit(\n",
    "        cirq.H(qubits[0]),\n",
    "        cirq.CX(qubits[0], qubits[1]),\n",
    "        cirq.CX(qubits[0], qubits[2]),\n",
    "        cirq.CX(qubits[1], qubits[3]),\n",
    "        cirq.CX(qubits[0], qubits[4]),\n",
    "        cirq.CX(qubits[1], qubits[5]),\n",
    "        cirq.CX(qubits[2], qubits[6]),\n",
    "        cirq.CX(qubits[3], qubits[7]),\n",
    "    )\n",
    "print(ghz_prep())"
   ]
  },
  {
   "cell_type": "markdown",
   "id": "4567dc8f",
   "metadata": {},
   "source": [
    "The cirq circuit can be converted to a bloqade kernel with a transpilation function. The kernel can be considered as a transformation on the register of qubits it is applied to as arguments, with the return being the qubits that still persist."
   ]
  },
  {
   "cell_type": "code",
   "execution_count": null,
   "id": "8ca17840",
   "metadata": {},
   "outputs": [],
   "source": [
    "# We can convert this circuit to a bloqade kernel\n",
    "kernel = bloqade.transpile.cirq_to_kernel(ghz_prep())\n",
    "\n",
    "# Similar methods exist for other circuit libraries and representations:\n",
    "# kernel = bloqade.transpile.qiskit_to_kernel(qiskit_circuit)\n",
    "# kernel = bloqade.transpile.pytket_to_kernel(pytket_circuit)\n",
    "# kernel = bloqade.transpile.qasm2_to_kernel(qasm_string)\n",
    "\n",
    "# To be fully encapsulated, the kernel should be called within a main() function.\n",
    "@bloqade.squin.kernel\n",
    "def main()-> list[int]:\n",
    "    # Initialize the register\n",
    "    q = bloqade.squin.qubit.new(8)\n",
    "    # Apply the unitary to the register\n",
    "    q = kernel(*q)\n",
    "    # Measure all qubits in the register\n",
    "    bits = bloqade.squin.measure(*q)\n",
    "    return bits\n",
    "\n",
    "# Alternatively, you can wrap a kernel with a premade decorator\n",
    "main2 = bloqade.squin.utils.wrap_kernel(kernel) # main2 == main"
   ]
  },
  {
   "cell_type": "markdown",
   "id": "82e37d11",
   "metadata": {},
   "source": [
    "## Simulation, emulation, and analysis\n",
    "\n",
    "We can simulate the action of kernels using interpreters. Bloqade supports two kinds of interpreters. Concrete emulators execute the kernel as if it would be done on a real quantum device, returning sets of bitstring measurements or probability distributions. Abstract interpreters do not explicitly execute the kernel, and instead can be seen as a transpilation-- that is, the circuit as a compressed representation of the statevector or probability vector."
   ]
  },
  {
   "cell_type": "code",
   "execution_count": null,
   "id": "575cdc63",
   "metadata": {},
   "outputs": [],
   "source": [
    "# Concrete emulator that explicitly samples from the probability distribution\n",
    "hardware_emulator = bloqade.emulators.hardware(seed=42)\n",
    "\n",
    "# Concrete emulator that returns the probability distribution\n",
    "software_emulator = bloqade.emulators.software()\n",
    "\n",
    "# Abstract emulator that returns a Cirq circuit\n",
    "cirq_emulator = bloqade.emulators.cirq_emulator()\n",
    "\n",
    "# Eventually, this will include actual quantum hardware\n",
    "# actual_hardware = bloqade.backends.Gemini(auth=auth)\n",
    "\n",
    "# Run the emulators\n",
    "bitstrings:dict[int,int] = hardware_emulator.run(main,shots=1000)\n",
    "\n",
    "distribution:dict[int,float] = software_emulator.run(main)\n",
    "statevector = software_emulator.state.quantum # This would be empty, given the kernel includes a measurement\n",
    "distribution2:dict[int,float] = statevector.probability_distribution()\n",
    "bitstrings2:dict[int,int] = bloqade.utils.sample_from_distribution(distribution, shots=1000,seed=42)\n",
    "\n",
    "circuit:cirq.Circuit = cirq_emulator.run(main)\n",
    "print(bitstrings)\n",
    "print(circuit)"
   ]
  },
  {
   "cell_type": "markdown",
   "id": "a6c1178a",
   "metadata": {},
   "source": [
    "# Composition of kernels\n",
    "\n",
    "The powerful thing about bloqade kernels is that they allow all of the typical syntax of for loops, if-else statements, function calls, and other powerful abstractions."
   ]
  },
  {
   "cell_type": "code",
   "execution_count": null,
   "id": "90c5de9e",
   "metadata": {},
   "outputs": [],
   "source": [
    "\n",
    "def trotter_layer(qubits:list[cirq.Qid], dt:float = 0.01, J:float = 1, h:float = 1)-> cirq.Circuit:\n",
    "    \"\"\"\n",
    "    Cirq builder function that returns a circuit of\n",
    "    a Trotter step of the 1D transverse Ising model\n",
    "    \"\"\"\n",
    "    op_zz = cirq.ZZ**(dt * J)\n",
    "    op_x = cirq.X**(dt * h)\n",
    "    circuit = cirq.Circuit()\n",
    "    for i in range(0,len(qubits)-1,2):\n",
    "        circuit.append(op_zz.on(qubits[i], qubits[i + 1]))\n",
    "    for i in range(1,len(qubits)-1,2):\n",
    "        circuit.append(op_zz.on(qubits[i], qubits[i + 1]))\n",
    "    for i in range(0, len(qubits)):\n",
    "        circuit.append(op_x.on(qubits[i]))\n",
    "    return circuit\n"
   ]
  },
  {
   "cell_type": "code",
   "execution_count": null,
   "id": "e8934142",
   "metadata": {},
   "outputs": [],
   "source": [
    "# Option A: write the entire circuit directly, then convert it to a kernel\n",
    "def trotter_circuit(qubits:list[cirq.Qid], steps:int = 10, dt:float = 0.01, J:float = 1, h:float = 1)-> cirq.Circuit:\n",
    "    circuit = cirq.Circuit()\n",
    "    for _ in range(steps):\n",
    "        circuit += trotter_layer(qubits, dt, J, h)\n",
    "    return circuit\n",
    "\n",
    "bloqade_trotter_circuit = bloqade.transpile.cirq_to_kernel(\n",
    "    trotter_circuit(\n",
    "        qubits=cirq.LineQubit.range(8),\n",
    "        steps=10,\n",
    "        dt=0.01,\n",
    "        J=1,\n",
    "        h=1))\n"
   ]
  },
  {
   "cell_type": "code",
   "execution_count": null,
   "id": "97bd427a",
   "metadata": {},
   "outputs": [],
   "source": [
    "# Option B: use a builder function to create the circuit.\n",
    "bloqade_trotter_layer = bloqade.transpile.cirq_to_kernel(trotter_layer(qubits=cirq.LineQubit.range(8),dt = 0.01, J = 1, h = 1))\n",
    "\n",
    "@bloqade.squin.kernel\n",
    "def trotter_for_loop(N:int, steps:int):\n",
    "    \"\"\"\n",
    "    Main function that runs the Trotter circuit for a given number of steps\n",
    "    \"\"\"\n",
    "    qubits = bloqade.squin.qubit.new(N)\n",
    "    for _ in range(steps):\n",
    "        qubits = bloqade_trotter_layer(*qubits)\n",
    "\n",
    "main_trotter = bloqade.squin.utils.wrap_kernel(trotter_for_loop,kwargs={'N':20, 'steps': 10})"
   ]
  },
  {
   "cell_type": "code",
   "execution_count": null,
   "id": "3f12aa26",
   "metadata": {},
   "outputs": [],
   "source": [
    "# Option C: write it all in bloqade directly\n",
    "@bloqade.squin.kernel\n",
    "def bloqade_trotter(qubits:list[bloqade.squin.qubit], steps:int, dt:float = 0.01, J:float = 1, h:float = 1):\n",
    "    \"\"\"\n",
    "    Main function that runs the Trotter circuit for a given number of steps\n",
    "    \"\"\"\n",
    "    for _ in range(steps):\n",
    "        zz = bloqade.squin.op.zzpow(dt * J)\n",
    "        x = bloqade.squin.op.xpow(dt * h)\n",
    "        for i in range(0, len(qubits) - 1, 2):\n",
    "            bloqade.squin.op.apply(zz, qubits[i], qubits[i + 1])\n",
    "        for i in range(1, len(qubits) - 1, 2):\n",
    "            bloqade.squin.op.apply(zz, qubits[i], qubits[i + 1])\n",
    "        for i in range(0, len(qubits)):\n",
    "            bloqade.squin.op.apply(x, qubits[i])\n",
    "\n",
    "# How to define the number of qubits that the wrapped kernel will use? Just have it as an argument?\n",
    "main_trotter2 = bloqade.squin.utils.wrap_kernel(bloqade_trotter, nqubits = 8, kwargs={'steps': 10, 'dt': 0.01, 'J': 1, 'h': 1})"
   ]
  },
  {
   "cell_type": "markdown",
   "id": "4f65d0e3",
   "metadata": {},
   "source": [
    "[ Differentiate writing circuits in bloqade kernels (parameterized) vs as circuits (static) ]"
   ]
  },
  {
   "cell_type": "markdown",
   "id": "93836d78",
   "metadata": {},
   "source": [
    "# Mid-circuit feed forward"
   ]
  },
  {
   "cell_type": "code",
   "execution_count": null,
   "id": "069fbe48",
   "metadata": {},
   "outputs": [],
   "source": [
    "# 1. Single-bit-decision for T state teleportation in cirq and bloqade."
   ]
  },
  {
   "cell_type": "code",
   "execution_count": null,
   "id": "2ff728b5",
   "metadata": {},
   "outputs": [],
   "source": [
    "# 2. Repeat until success for Z(phi) state teleportation in bloqade. Emphisize that this can't be done in cirq."
   ]
  },
  {
   "cell_type": "code",
   "execution_count": null,
   "id": "8cc60745",
   "metadata": {},
   "outputs": [],
   "source": [
    "# 3. Linear depth GHZ state preparation"
   ]
  },
  {
   "cell_type": "markdown",
   "id": "fec10c92",
   "metadata": {},
   "source": [
    "Simulating mid-circuit feed-forward: only certain programs can be expressed in cirq"
   ]
  },
  {
   "cell_type": "markdown",
   "id": "27247ec7",
   "metadata": {},
   "source": [
    "# Compilation and transformation\n",
    "Reference the list of squin compiler transformations, and generic kirin transformations."
   ]
  },
  {
   "cell_type": "code",
   "execution_count": null,
   "id": "d2a55bcf",
   "metadata": {},
   "outputs": [],
   "source": [
    "main_bell_state_compiled = bloqade.squin.passes.CZGateSet()(main_GHZ_state)\n",
    "trotter_for_loop_flattened = kirin.passes.Flatten()(trotter_for_loop)\n",
    "\n",
    "\n",
    "# Combine passes together\n",
    "custom_compiler_pass = kirin.PassManager(pipeline = [bloqade.squin.passes.CZGateSet(),\n",
    "                                              kirin.passes.Flatten(),\n",
    "                                              kirin.passes.Fold(),\n",
    "                                              ],\n",
    "                                  fixedpoint=True)\n",
    "\n",
    "# Or even push it to hardware by lowering to the move dialect.\n",
    "# Note that the custom_compiler_pass has been reused here.\n",
    "hardware_compiler_pass = kirin.PassManager(pipeline = [custom_compiler_pass,\n",
    "                                                       bloqade.compiler.squin_to_move()],\n",
    "                                  fixedpoint=True)"
   ]
  }
 ],
 "metadata": {
  "kernelspec": {
   "display_name": "bloqade",
   "language": "python",
   "name": "python3"
  },
  "language_info": {
   "codemirror_mode": {
    "name": "ipython",
    "version": 3
   },
   "file_extension": ".py",
   "mimetype": "text/x-python",
   "name": "python",
   "nbconvert_exporter": "python",
   "pygments_lexer": "ipython3",
   "version": "3.10.13"
  }
 },
 "nbformat": 4,
 "nbformat_minor": 5
}
