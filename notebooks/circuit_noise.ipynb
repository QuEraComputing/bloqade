{
 "cells": [
  {
   "cell_type": "markdown",
   "id": "ef56ea11",
   "metadata": {},
   "source": [
    "# Evaluating circuit-level performance"
   ]
  },
  {
   "cell_type": "markdown",
   "id": "1789346a",
   "metadata": {},
   "source": [
    "# Noise in Gemini-class digital neutral atom quantum processors\n",
    "\n",
    "QuEra's Gemini-class processors are our first generation of digital quantum computers that take advantage of the unique capabilities of neutral atom qubits. Gemini processors utilize arrays of neutral atoms trapped in optical tweezers, which can be dynamically rearranged to achieve arbitrary qubit connectivity. The native gate set includes single-qubit rotations base on Raman transitions between atomic hyperfine states and two-qubit CZ entangling gates based on the Rydberg blockage interaction, allowing for efficient implementation of quantum algorithms. As a first demonstration of our new hardware, we have recently [published a paper in Nature](https://www.nature.com/articles/s41586-025-09367-3) demonstration magic state distillation in the d=3 and d=5 color codes.\n",
    "\n",
    "Like any quantum hardware, Gemini-class processors are subject to incoherent and coherent noise processes that cause errors in quantum circuits implemented on the device. To evaluate the practicality of implementing a task on the hardware, noise models at the circuit level can inform algorithm design. To this end, we have developed noise models using the popular circuit SDK [cirq](https://quantumai.google/cirq), which mains interoperability to our internal circuit representation: [squin](https://github.com/QuEraComputing/bloqade-circuit/tree/main/src/bloqade/squin). The quantitative values of these error rates can be found in [bloqade](https://github.com/QuEraComputing/bloqade-circuit/blob/14fdf7aa9f0aa1e2476b230da9a9e7b4dc800231/src/bloqade/qasm2/dialects/noise/model.py#L5) and are described as:\n",
    "\n",
    "1. Global single qubit gate error\n",
    "    - Depolarizing error applied to all qubits after a single qubit gate that is applied to all qubits in parallel.\n",
    "1. Local single qubit gate error\n",
    "    - Depolarizing error applied to gated single qubits after a single qubit gate that is applied to a subset of qubits.\n",
    "1. CZ gate error\n",
    "    - Pauli error channel that is biases towards phase errors applied to both qubits that are within the blockage radius during a Rydberg pulse.\n",
    "    - Incorporates errors from the Rydberg pulse and dynamical decoupling.\n",
    "1. Unpaired Rydberg error\n",
    "    - Pauli error channel is biased towards phase errors applied to single qubits that experience a Rydberg pulse but do not have a partner qubit within the blockade radius.\n",
    "    - Incorporates errors from the Rydberg pulse and dynamical decoupling.\n",
    "1. Mover error\n",
    "    - Pauli error channel that is also biased towards phase errors applied to qubits that must move during a circuit.\n",
    "    - Incorporates errors from transferring atoms from fixed tweezer traps to dynamical traps for moves, dynamical decoupling, move errors, and idling errors.\n",
    "1. Sitter error\n",
    "    - Pauli error channel that is applied to atoms that are stationary while other atoms are moving.\n",
    "    - Incorporates errors from dynamical decoupling and idling errors.\n",
    "\n",
    "The error rates are calculated by benchmarking results that will be published in a forthcoming paper characterizing the full performances of our Gemini-class hardware. Particularly relevant to our neutral atom platform is the implementation of atomic moves, required to situate atoms within the Rydberg blockage radius of each other for CZ gates. These atom moves are achieved using dynamic optical tweezers that impose certain [constraints on what moves can be executed concurrently](https://arxiv.org/abs/2506.05536v1). For a general quantum circuit, the optimization of these moves into the fewest possible steps is an active area of research and greatly effects the overall performance of the circuit, because the \"sitter error\" is significant and thus reducing the total number of moves is critical to achieving high fidelity. In our [circuit noise models in bloqade](https://github.com/QuEraComputing/bloqade-circuit/blob/main/src/bloqade/cirq_utils/noise/model.py), we have taken a middle ground estimate to the number of move steps that are required for a general circuit. For circuits that are amenable to highly parallelized moves when the atom geometry is suitably chosen, our noise models will likely overestimate the total error. However, for worst case circuits that require many move steps for a given circuit layer, our noise models may underestimate the total error. Therefore, a realistic range of performance can be achieved by scaling the mover and sitting error rates, as shown below.\n",
    "\n",
    "This notebook describes the effect of the above noise sources in detail to give the user an in-depth intuition into the sources of noise on our Gemini-class machines. Once this knowledge is gained, the example of the implementation of these noise models in preparing a GHZ state is shown in the [bloqade documentation](https://bloqade.quera.com/v0.27.1/digital/examples/noisy_ghz/).\n",
    "\n",
    "Finally, an important disclaimer is that these noise models purely use Pauli channels, modeling incoherent errors. Coherent errors and leakage/loss events are not explicitly accounted for, but rather folded into the effective Pauli error rates. This is a reasonable approximation for many use cases, but may not be valid for all circuits."
   ]
  },
  {
   "metadata": {},
   "cell_type": "markdown",
   "source": "# Global vs local single qubit gates",
   "id": "6bde9e466d6c0815"
  },
  {
   "metadata": {
    "ExecuteTime": {
     "end_time": "2025-08-08T12:37:06.884531Z",
     "start_time": "2025-08-08T12:37:04.912166Z"
    }
   },
   "cell_type": "code",
   "source": [
    "import cirq\n",
    "import matplotlib.pyplot as plt\n",
    "import qsimcirq\n",
    "import numpy as np\n",
    "\n",
    "from bloqade.cirq_utils.noise import (\n",
    "    transform_circuit,\n",
    "    GeminiTwoZoneNoiseModel\n",
    ")\n",
    "\n",
    "simulator = qsimcirq.QSimSimulator()"
   ],
   "id": "5820b0d195fc2500",
   "outputs": [],
   "execution_count": 2
  },
  {
   "metadata": {},
   "cell_type": "markdown",
   "source": "Let's suppose for our first experiment on Gemini we want to test the very basic circuit shown below.",
   "id": "96a012ca2f791193"
  },
  {
   "metadata": {
    "ExecuteTime": {
     "end_time": "2025-08-08T12:37:06.900890Z",
     "start_time": "2025-08-08T12:37:06.895211Z"
    }
   },
   "cell_type": "code",
   "source": [
    "q0, q1 = cirq.LineQubit.range(2)\n",
    "\n",
    "cirq.Circuit.from_moments(\n",
    "    cirq.Moment(cirq.X(q0), cirq.Y(q1)),\n",
    "    cirq.Moment(cirq.Y(q0), cirq.X(q1)),\n",
    "    cirq.Moment(cirq.X(q0), cirq.Y(q1)),\n",
    "    cirq.Moment(cirq.Y(q0), cirq.X(q1)),\n",
    ")"
   ],
   "id": "3fe57a8365a0a0b9",
   "outputs": [
    {
     "data": {
      "text/plain": [
       "0: ───X───Y───X───Y───\n",
       "\n",
       "1: ───Y───X───Y───X───"
      ],
      "text/html": [
       "<pre style=\"overflow: auto; white-space: pre;\">0: ───X───Y───X───Y───\n",
       "\n",
       "1: ───Y───X───Y───X───</pre>"
      ]
     },
     "execution_count": 3,
     "metadata": {},
     "output_type": "execute_result"
    }
   ],
   "execution_count": 3
  },
  {
   "metadata": {},
   "cell_type": "markdown",
   "source": [
    "This circuit does not have any two qubit gates, so we don't have to worry any complications due to moves. However, we do have to think carefully about the effects of global vs local single qubit gates. In the above circuit, all of the gates must be applied locally, because the X and Y gates are applied to different qubits in the same moment. However, the errors associated with local single qubit gates are almost an order of magnitude higher, compared to local single qubit gates.\n",
    "\n",
    "In this case, we can increase the number of gate layers by one to make all the gates global by sliding the gates on qubit 0 back one moment:"
   ],
   "id": "a218f2cb74e0e076"
  },
  {
   "metadata": {
    "ExecuteTime": {
     "end_time": "2025-08-08T12:37:06.967660Z",
     "start_time": "2025-08-08T12:37:06.962956Z"
    }
   },
   "cell_type": "code",
   "source": [
    "cirq.Circuit.from_moments(\n",
    "    cirq.Moment(cirq.Y(q1)),\n",
    "    cirq.Moment(cirq.X(q0), cirq.X(q1)),\n",
    "    cirq.Moment(cirq.Y(q0), cirq.Y(q1)),\n",
    "    cirq.Moment(cirq.X(q0), cirq.X(q1)),\n",
    "    cirq.Moment(cirq.Y(q0))\n",
    ")"
   ],
   "id": "1a694c17356ae79d",
   "outputs": [
    {
     "data": {
      "text/plain": [
       "0: ───────X───Y───X───Y───\n",
       "\n",
       "1: ───Y───X───Y───X───────"
      ],
      "text/html": [
       "<pre style=\"overflow: auto; white-space: pre;\">0: ───────X───Y───X───Y───\n",
       "\n",
       "1: ───Y───X───Y───X───────</pre>"
      ]
     },
     "execution_count": 4,
     "metadata": {},
     "output_type": "execute_result"
    }
   ],
   "execution_count": 4
  },
  {
   "metadata": {},
   "cell_type": "markdown",
   "source": [
    "Let's see how the noise model handles these two circuits.\n",
    "\n",
    "First, I'll rewrite the `cirq.X` and `cirq.Y` gates in terms of `cirq.PhasedXZGate`s. In most cases, this step is not necessary because the `transform_circuit` function, which generates a noisy circuit from a clean one, will decompose arbitrary single qubit gates into the native gate set. However, this transformer also combines subsequent single qubit gates on the same qubit into a single gate, which would render both circuits above trivial. Therefore, we will manually write the circuits in terms of `cirq.PhasedXZGate`s and set `to_native_gateset=False` in the `transform_circuit` function."
   ],
   "id": "124410f38e38dda5"
  },
  {
   "metadata": {
    "ExecuteTime": {
     "end_time": "2025-08-08T12:37:07.030448Z",
     "start_time": "2025-08-08T12:37:07.028593Z"
    }
   },
   "cell_type": "code",
   "source": [
    "IGATE = cirq.PhasedXZGate(x_exponent = 0,  z_exponent = 0, axis_phase_exponent = 0)\n",
    "XGATE = cirq.PhasedXZGate(x_exponent = 1,  z_exponent = 0, axis_phase_exponent = 0)\n",
    "YGATE = cirq.PhasedXZGate(x_exponent = 1,  z_exponent = 0, axis_phase_exponent = 0.5)"
   ],
   "id": "3f583130ade2acc",
   "outputs": [],
   "execution_count": 5
  },
  {
   "metadata": {
    "ExecuteTime": {
     "end_time": "2025-08-08T12:37:07.050384Z",
     "start_time": "2025-08-08T12:37:07.047273Z"
    }
   },
   "cell_type": "code",
   "source": [
    "def pi_blocks(q0: cirq.Qid, q1: cirq.Qid, n: int, global_gates: bool = True) -> list[cirq.Moment]:\n",
    "    if global_gates is True:\n",
    "        return [cirq.Moment(YGATE.on(q1))] + [\n",
    "            cirq.Moment(XGATE.on_each([q0, q1])),\n",
    "            cirq.Moment(YGATE.on_each([q0, q1])),\n",
    "            ] * (n - 1) + [cirq.Moment(XGATE.on_each([q0, q1])),\n",
    "                           cirq.Moment(YGATE.on(q0))]\n",
    "    else:\n",
    "        return [\n",
    "            cirq.Moment(XGATE.on(q0), YGATE.on(q1)),\n",
    "            cirq.Moment(YGATE.on(q0), XGATE.on(q1)),\n",
    "        ] * n"
   ],
   "id": "f16386a3dc89f86b",
   "outputs": [],
   "execution_count": 6
  },
  {
   "metadata": {},
   "cell_type": "markdown",
   "source": "First, let's set `global_gates=False` and inspect the noisy circuit.",
   "id": "ed67dd85c73de6"
  },
  {
   "metadata": {
    "ExecuteTime": {
     "end_time": "2025-08-08T12:37:07.063094Z",
     "start_time": "2025-08-08T12:37:07.060663Z"
    }
   },
   "cell_type": "code",
   "source": [
    "local_circuit = cirq.Circuit.from_moments(*pi_blocks(q0, q1, 2,global_gates=False))\n",
    "print('The clean circuit with local gates:')\n",
    "print(local_circuit)"
   ],
   "id": "4fd0aaac018804d9",
   "outputs": [
    {
     "name": "stdout",
     "output_type": "stream",
     "text": [
      "The clean circuit with local gates:\n",
      "0: ───PhXZ(a=0,x=1,z=0)─────PhXZ(a=0.5,x=1,z=0)───PhXZ(a=0,x=1,z=0)─────PhXZ(a=0.5,x=1,z=0)───\n",
      "\n",
      "1: ───PhXZ(a=0.5,x=1,z=0)───PhXZ(a=0,x=1,z=0)─────PhXZ(a=0.5,x=1,z=0)───PhXZ(a=0,x=1,z=0)─────\n"
     ]
    }
   ],
   "execution_count": 7
  },
  {
   "metadata": {
    "ExecuteTime": {
     "end_time": "2025-08-08T12:37:07.083281Z",
     "start_time": "2025-08-08T12:37:07.078720Z"
    }
   },
   "cell_type": "code",
   "source": [
    "model = GeminiTwoZoneNoiseModel()\n",
    "local_circuit_noisy = transform_circuit(local_circuit,to_native_gateset=False, model = model)\n",
    "print('The noisy circuit with local gates:')\n",
    "print(local_circuit_noisy)"
   ],
   "id": "8003b8a901f9923b",
   "outputs": [
    {
     "name": "stdout",
     "output_type": "stream",
     "text": [
      "The noisy circuit with local gates:\n",
      "0: ───A(0.000806,0.000806,0.00246)───PhXZ(a=0,x=1,z=0)─────A(0.00041,0.00041,0.000411)───PhXZ(a=0.5,x=1,z=0)───A(0.00041,0.00041,0.000411)───PhXZ(a=0,x=1,z=0)─────A(0.00041,0.00041,0.000411)───PhXZ(a=0.5,x=1,z=0)───A(0.00041,0.00041,0.000411)───\n",
      "\n",
      "1: ───A(0.000806,0.000806,0.00246)───PhXZ(a=0.5,x=1,z=0)───A(0.00041,0.00041,0.000411)───PhXZ(a=0,x=1,z=0)─────A(0.00041,0.00041,0.000411)───PhXZ(a=0.5,x=1,z=0)───A(0.00041,0.00041,0.000411)───PhXZ(a=0,x=1,z=0)─────A(0.00041,0.00041,0.000411)───\n"
     ]
    }
   ],
   "execution_count": 8
  },
  {
   "metadata": {},
   "cell_type": "markdown",
   "source": [
    "Let's unpack this noise annotated circuit a bit:\n",
    "\n",
    "- The first moment is error coming from moving the qubits from the storage zone into the entangling zone.\n",
    "- The second moment has the ideally implemented local single qubit gates.\n",
    "- The third moment shows the depolarizing error associated with local single qubit gates (note that `px = py = pz`).\n",
    "- The fourth moment again shows the ideal single qubit gates\n",
    "- and the fifth moment shows the associated error.\n",
    "- and so on...\n",
    "\n",
    "Now's let's compare this to the where we slide the top gates back by one moment to make all the gates global:"
   ],
   "id": "56992a15acd379e3"
  },
  {
   "metadata": {
    "ExecuteTime": {
     "end_time": "2025-08-08T12:37:07.105099Z",
     "start_time": "2025-08-08T12:37:07.101711Z"
    }
   },
   "cell_type": "code",
   "source": [
    "global_circuit = cirq.Circuit.from_moments(*pi_blocks(q0, q1, 2,global_gates=True))\n",
    "print('The clean circuit with a global gate:')\n",
    "print(global_circuit)"
   ],
   "id": "f654a77199494c1a",
   "outputs": [
    {
     "name": "stdout",
     "output_type": "stream",
     "text": [
      "The clean circuit with a global gate:\n",
      "0: ─────────────────────────PhXZ(a=0,x=1,z=0)───PhXZ(a=0.5,x=1,z=0)───PhXZ(a=0,x=1,z=0)───PhXZ(a=0.5,x=1,z=0)───\n",
      "\n",
      "1: ───PhXZ(a=0.5,x=1,z=0)───PhXZ(a=0,x=1,z=0)───PhXZ(a=0.5,x=1,z=0)───PhXZ(a=0,x=1,z=0)─────────────────────────\n"
     ]
    }
   ],
   "execution_count": 9
  },
  {
   "metadata": {
    "ExecuteTime": {
     "end_time": "2025-08-08T12:37:07.138424Z",
     "start_time": "2025-08-08T12:37:07.126325Z"
    }
   },
   "cell_type": "code",
   "source": [
    "global_circuit_noisy = transform_circuit(global_circuit,to_native_gateset=False, model = model)\n",
    "print('The noisy circuit with a global gate:')\n",
    "print(global_circuit_noisy)"
   ],
   "id": "2af7d97bdd32a5d0",
   "outputs": [
    {
     "name": "stdout",
     "output_type": "stream",
     "text": [
      "The noisy circuit with a global gate:\n",
      "0: ───A(0.000307,0.000307,0.000464)──────────────────────────────────────────────────────A(0.000806,0.000806,0.00246)────PhXZ(a=0,x=1,z=0)───A(6.5e-05,6.5e-05,6.5e-05)───PhXZ(a=0.5,x=1,z=0)───A(6.5e-05,6.5e-05,6.5e-05)───PhXZ(a=0,x=1,z=0)───A(6.5e-05,6.5e-05,6.5e-05)───A(0.000307,0.000307,0.000464)───PhXZ(a=0.5,x=1,z=0)───A(6.5e-05,6.5e-05,6.5e-05)───\n",
      "\n",
      "1: ───A(0.000806,0.000806,0.00246)────PhXZ(a=0.5,x=1,z=0)───A(6.5e-05,6.5e-05,6.5e-05)───A(0.000307,0.000307,0.000464)───PhXZ(a=0,x=1,z=0)───A(6.5e-05,6.5e-05,6.5e-05)───PhXZ(a=0.5,x=1,z=0)───A(6.5e-05,6.5e-05,6.5e-05)───PhXZ(a=0,x=1,z=0)───A(6.5e-05,6.5e-05,6.5e-05)───A(0.000806,0.000806,0.00246)───────────────────────────────────────────────────────\n"
     ]
    }
   ],
   "execution_count": 10
  },
  {
   "metadata": {},
   "cell_type": "markdown",
   "source": "#TODO: fix the \"global errors\" for when there is only qubit in the entangling zone",
   "id": "41bfb4332abc3997"
  },
  {
   "metadata": {},
   "cell_type": "markdown",
   "source": [
    "Stepping through this circuit:\n",
    "\n",
    "- The first moment moves qubit 1 from the storage zone into the entangling zone, qubit 0 sees the sitter error.\n",
    "- The second moment shoes the ideal local gate on qubit 1.\n",
    "- The third moment shows the UPDATEUPDATEUPDATE.\n",
    "- The fourth moment is a Pauli error channel associated with qubit 0 moving into the entangling zone from the storage zone and qubit 1 sitting while qubit 0 moves.\n",
    "- The fifth moment is the global X gate on both qubits.\n",
    "- The sixth moment is the depolarizing error with the global X gate, which is much smaller compared to the local gate error.\n",
    "- The seventh moment is the global Y gate on both qubits.\n",
    "- The eighth moment is the associated depolarizing error.\n",
    "- The ninth moment in the 2nd global X gate.\n",
    "- The tenth moment is the associated depolarizing error.\n",
    "- The eleventh moment is the move error to return qubit 1 to the storage zone, qubit 0 sees the sitter error.\n",
    "- and the twelfth and thirteenth moments are the ideal and error associated with the local Y gate on qubit 0. #probably convert this to a numbered list\n",
    "\n",
    "Now, we can simulate both circuits and even compare the behavior as we increase the number of times the pattern is repeated. Let's choose the following depths:"
   ],
   "id": "c7ed91cb2888d43a"
  },
  {
   "metadata": {
    "ExecuteTime": {
     "end_time": "2025-08-08T12:37:07.168411Z",
     "start_time": "2025-08-08T12:37:07.163817Z"
    }
   },
   "cell_type": "code",
   "source": [
    "positions = np.linspace(0.02, 1, 6)[1:] ** 2.5\n",
    "number_of_blocks = np.unique((positions * 100).astype(int))\n",
    "print('List of number of blocks to simulate:')\n",
    "print(number_of_blocks)"
   ],
   "id": "6d2fea1bdc456851",
   "outputs": [
    {
     "name": "stdout",
     "output_type": "stream",
     "text": [
      "List of number of blocks to simulate:\n",
      "[  2  10  28  57 100]\n"
     ]
    }
   ],
   "execution_count": 11
  },
  {
   "metadata": {},
   "cell_type": "markdown",
   "source": "Now let's simulate the different circuits and compare the probability of measuring the $|0\\rangle$ state as a function of depth.",
   "id": "369cd752c06f7743"
  },
  {
   "metadata": {
    "ExecuteTime": {
     "end_time": "2025-08-08T12:37:08.708994Z",
     "start_time": "2025-08-08T12:37:07.195695Z"
    }
   },
   "cell_type": "code",
   "source": [
    "global_state_histograms = {}\n",
    "local_state_histograms = {}\n",
    "reps = 1000\n",
    "for depth in number_of_blocks:\n",
    "    local_circuit = cirq.Circuit.from_moments(*pi_blocks(q0, q1, depth, global_gates=False))\n",
    "    global_circuit = cirq.Circuit.from_moments(*pi_blocks(q0, q1, depth, global_gates=True))\n",
    "\n",
    "    local_circuit_noisy = transform_circuit(local_circuit,to_native_gateset=False, model = model)\n",
    "    global_circuit_noisy = transform_circuit(global_circuit,to_native_gateset=False, model = model)\n",
    "\n",
    "    global_results = simulator.run(global_circuit_noisy + cirq.measure([q0, q1], key='m'), repetitions=reps)\n",
    "    local_results = simulator.run(local_circuit_noisy + cirq.measure([q0, q1], key='m'), repetitions=reps)\n",
    "\n",
    "    global_state_histograms[depth] = global_results.histogram(key='m')\n",
    "    local_state_histograms[depth] = local_results.histogram(key='m')\n"
   ],
   "id": "a76ada0c4fbd38c9",
   "outputs": [],
   "execution_count": 12
  },
  {
   "metadata": {},
   "cell_type": "markdown",
   "source": "We can plot the probability of measuring the $|00\\rangle$ state as a measure of the circuit fidelity.",
   "id": "25269197be8cc2d6"
  },
  {
   "metadata": {
    "ExecuteTime": {
     "end_time": "2025-08-08T12:37:08.842764Z",
     "start_time": "2025-08-08T12:37:08.727916Z"
    }
   },
   "cell_type": "code",
   "source": [
    "global_00_prob = np.array([hist[0] / reps for hist in global_state_histograms.values()])\n",
    "local_00_prob = np.array([hist[0] / reps for hist in local_state_histograms.values()])\n",
    "\n",
    "global_00_err = np.sqrt(global_00_prob * (1 - global_00_prob) / reps)\n",
    "local_00_err = np.sqrt(local_00_prob * (1 - local_00_prob) / reps)\n",
    "\n",
    "plt.errorbar(number_of_blocks, global_00_prob, yerr=global_00_err, linestyle='', marker='o', label='Global gates')\n",
    "plt.errorbar(number_of_blocks, local_00_prob, yerr=local_00_err, linestyle='', marker='o', label='Local gates')\n",
    "\n",
    "plt.ylabel('Probability for $|00\\\\rangle$')\n",
    "plt.xlabel('Depth')\n",
    "\n",
    "plt.legend()"
   ],
   "id": "697538bd47be1d0c",
   "outputs": [
    {
     "data": {
      "text/plain": [
       "<matplotlib.legend.Legend at 0x123cc78e0>"
      ]
     },
     "execution_count": 13,
     "metadata": {},
     "output_type": "execute_result"
    },
    {
     "data": {
      "text/plain": [
       "<Figure size 640x480 with 1 Axes>"
      ],
      "image/png": "[encoded data removed]"
     },
     "metadata": {},
     "output_type": "display_data"
    }
   ],
   "execution_count": 13
  },
  {
   "metadata": {},
   "cell_type": "markdown",
   "source": "We can see as the circuit depth increases, the circuit with more global gates outperforms the circuit with all local gates. Accordingly, when structuring quantum circuits for Gemini-class processors, one should always look for opportunities to increase the number of global gates, even at the expense of increasing the circuit depth",
   "id": "7733866ae126463e"
  },
  {
   "metadata": {},
   "cell_type": "markdown",
   "source": "# One Zone vs Two Zone Model",
   "id": "f056a0204541a3d8"
  },
  {
   "metadata": {},
   "cell_type": "markdown",
   "source": "TODO: Make the correlated noise channel the default and remove the other.",
   "id": "f0959318b2a6a613"
  },
  {
   "metadata": {},
   "cell_type": "markdown",
   "source": [
    "Additionally, when going to hardware, there are a couple of options for how to architect the geometry with respect to the entangling zone (ie. the area of the chamber where the Rydberg laser is applied). In the \"One Zone\" scheme, all the qubits live within the entangling zone for the duration of the experiment. This scheme often can minimize move errors, but all qubits also are exposed to the Rydberg beam, so unpaired errors are significant. The the \"Two Zone\" scheme, qubits can be shuttled between a storage zone where the Rydberg beam is not applied and the entangling zone. This scheme can minimize unpaired errors, but often requires more moves, which can increase the sitter and mover errors. The choice between these two schemes is often a trade-off that depends on the structure of the circuit.\n",
    "\n",
    "In our one zone model, we make the assumption that in each CZ layer of the circuit, all qubits can move to their entangling partners in a single move step. However, we only need to move one qubit to its gate partner, while the other stays fixed. Then, after the gate the qubit that moved goes back to its original position. This is a rather simplistic assumption, but may work well for certain circuits. We intend to extend this model to account for constraints on parallel moves in the future.\n",
    "\n",
    "Manim visual?\n",
    "\n",
    "In our two zone model, we instead make the assumption that is a qubit does not participate in a gate, it should be moved to the storage zone. In some cases, this may result less total error during the circuit. There are also additional moves associated with pairing up qubits within the entangling zone for the CZ gates. Again, this model is rather simplistic and can lead to qubits frequently moving between zones, with deterimental consequences to the total circuit fidelity.\n",
    "\n",
    "Manim visual?\n",
    "\n",
    "The implementation of these models is well described in the [bloqade documentation](https://bloqade.quera.com/v0.27.1/digital/examples/noisy_ghz/). The noise models can be imported using:\n",
    "\n",
    "```\n",
    "from bloqade.cirq_utils.noise import GeminiOneZoneNoiseModel, GeminiOneZoneNoiseModelConflictGraphMoves, GeminiTwoZoneNoiseModel\n",
    "```"
   ],
   "id": "c9a88f63d890ab70"
  },
  {
   "metadata": {},
   "cell_type": "markdown",
   "source": "# Exploring circuit geometry with GridQubits",
   "id": "1d0fa08bef7d502b"
  },
  {
   "metadata": {},
   "cell_type": "markdown",
   "source": "So, you've written a circuit, benchmarked it using the `GeminiOneZoneNoiseModel` and `GeminiTwoZoneNoiseModel`, and now you're ready to start thinking about the geometry of the atoms in the hardware. Our circuit-level noise modelling tools provide a bridge to world of move compiliation via the `GeminiOneZoneNoiseModelConflictGraphMoves` noise model. This model uses the same noise parameters as the `GeminiOneZoneNoiseModel`, but also estimates the number of required moves to satisfy the dynamical tweezer constrains using a conflict graph approach. This approach can provide a more realistic estimate of the circuit fidelity and help users optimize the experimental geometry of the qubits in their circuit. We'll take the example of the eight qubit GHZ state prepared in log(N) depth.",
   "id": "2b9e44ab3d286294"
  },
  {
   "metadata": {
    "ExecuteTime": {
     "end_time": "2025-08-08T12:37:08.866807Z",
     "start_time": "2025-08-08T12:37:08.864189Z"
    }
   },
   "cell_type": "code",
   "source": [
    "def ghz_log_depth_circuit(n_qubits: int) -> cirq.Circuit:\n",
    "    qubits = cirq.LineQubit.range(n_qubits)\n",
    "    circuit = cirq.Circuit()\n",
    "\n",
    "    # Step 1: Start with a Hadamard on the first qubit\n",
    "    circuit.append(cirq.H(qubits[0]))\n",
    "\n",
    "    # Step 2: Apply CNOTs in log-depth tree structure\n",
    "    targeted = 1\n",
    "    while targeted < n_qubits:\n",
    "        moment = cirq.Moment()\n",
    "        for i in range(0, targeted):\n",
    "            if targeted+i <n_qubits:\n",
    "                moment += cirq.CNOT(qubits[i], qubits[targeted+i])\n",
    "            else:\n",
    "                break\n",
    "        targeted += targeted\n",
    "        circuit += moment\n",
    "\n",
    "    return circuit"
   ],
   "id": "91c04e93c683de4",
   "outputs": [],
   "execution_count": 14
  },
  {
   "metadata": {
    "ExecuteTime": {
     "end_time": "2025-08-08T12:37:08.890768Z",
     "start_time": "2025-08-08T12:37:08.886578Z"
    }
   },
   "cell_type": "code",
   "source": [
    "line_qubit_circuit = ghz_log_depth_circuit(8)\n",
    "print(line_qubit_circuit)"
   ],
   "id": "70c92989fdfae7d4",
   "outputs": [
    {
     "name": "stdout",
     "output_type": "stream",
     "text": [
      "              ┌──┐   ┌────┐\n",
      "0: ───H───@────@──────@───────\n",
      "          │    │      │\n",
      "1: ───────X────┼@─────┼@──────\n",
      "               ││     ││\n",
      "2: ────────────X┼─────┼┼@─────\n",
      "                │     │││\n",
      "3: ─────────────X─────┼┼┼@────\n",
      "                      ││││\n",
      "4: ───────────────────X┼┼┼────\n",
      "                       │││\n",
      "5: ────────────────────X┼┼────\n",
      "                        ││\n",
      "6: ─────────────────────X┼────\n",
      "                         │\n",
      "7: ──────────────────────X────\n",
      "              └──┘   └────┘\n"
     ]
    }
   ],
   "execution_count": 15
  },
  {
   "metadata": {},
   "cell_type": "markdown",
   "source": "Now, let's map the `cirq.LineQubit`s to `cirq.GridQubit`s to define the geometry.",
   "id": "7566fdc0924b6d6f"
  },
  {
   "metadata": {
    "ExecuteTime": {
     "end_time": "2025-08-08T12:37:08.913611Z",
     "start_time": "2025-08-08T12:37:08.912051Z"
    }
   },
   "cell_type": "code",
   "source": "from bloqade.cirq_utils.noise import GeminiOneZoneNoiseModelConflictGraphMoves",
   "id": "878d854f1dc3431f",
   "outputs": [],
   "execution_count": 16
  },
  {
   "metadata": {
    "ExecuteTime": {
     "end_time": "2025-08-08T12:37:08.938651Z",
     "start_time": "2025-08-08T12:37:08.934244Z"
    }
   },
   "cell_type": "code",
   "source": [
    "map1 = {\n",
    "    cirq.LineQubit(0): cirq.GridQubit(0, 0),\n",
    "    cirq.LineQubit(1): cirq.GridQubit(0, 1),\n",
    "    cirq.LineQubit(2): cirq.GridQubit(0, 2),\n",
    "    cirq.LineQubit(3): cirq.GridQubit(1, 0),\n",
    "    cirq.LineQubit(4): cirq.GridQubit(1, 1),\n",
    "    cirq.LineQubit(5): cirq.GridQubit(1, 2),\n",
    "    cirq.LineQubit(6): cirq.GridQubit(2, 0),\n",
    "    cirq.LineQubit(7): cirq.GridQubit(2, 1),\n",
    "}\n",
    "\n",
    "geometry1 = line_qubit_circuit.transform_qubits(lambda q: map1[q])\n",
    "print(geometry1)"
   ],
   "id": "b83f7284fcff586",
   "outputs": [
    {
     "name": "stdout",
     "output_type": "stream",
     "text": [
      "                   ┌──┐   ┌────┐\n",
      "(0, 0): ───H───@────@──────@───────\n",
      "               │    │      │\n",
      "(0, 1): ───────X────┼@─────┼@──────\n",
      "                    ││     ││\n",
      "(0, 2): ────────────X┼─────┼┼@─────\n",
      "                     │     │││\n",
      "(1, 0): ─────────────X─────┼┼┼@────\n",
      "                           ││││\n",
      "(1, 1): ───────────────────X┼┼┼────\n",
      "                            │││\n",
      "(1, 2): ────────────────────X┼┼────\n",
      "                             ││\n",
      "(2, 0): ─────────────────────X┼────\n",
      "                              │\n",
      "(2, 1): ──────────────────────X────\n",
      "                   └──┘   └────┘\n"
     ]
    }
   ],
   "execution_count": 17
  },
  {
   "metadata": {
    "ExecuteTime": {
     "end_time": "2025-08-08T12:37:08.969401Z",
     "start_time": "2025-08-08T12:37:08.964973Z"
    }
   },
   "cell_type": "code",
   "source": [
    "map2 = {\n",
    "    cirq.LineQubit(0): cirq.GridQubit(0, 0),\n",
    "    cirq.LineQubit(1): cirq.GridQubit(0, 1),\n",
    "    cirq.LineQubit(2): cirq.GridQubit(0, 2),\n",
    "    cirq.LineQubit(3): cirq.GridQubit(0, 3),\n",
    "    cirq.LineQubit(4): cirq.GridQubit(1, 0),\n",
    "    cirq.LineQubit(5): cirq.GridQubit(1, 1),\n",
    "    cirq.LineQubit(6): cirq.GridQubit(1, 2),\n",
    "    cirq.LineQubit(7): cirq.GridQubit(1, 3),\n",
    "}\n",
    "\n",
    "geometry2 = line_qubit_circuit.transform_qubits(lambda q: map2[q])\n",
    "print(geometry2)"
   ],
   "id": "ceb9f35e1023ad75",
   "outputs": [
    {
     "name": "stdout",
     "output_type": "stream",
     "text": [
      "                   ┌──┐   ┌────┐\n",
      "(0, 0): ───H───@────@──────@───────\n",
      "               │    │      │\n",
      "(0, 1): ───────X────┼@─────┼@──────\n",
      "                    ││     ││\n",
      "(0, 2): ────────────X┼─────┼┼@─────\n",
      "                     │     │││\n",
      "(0, 3): ─────────────X─────┼┼┼@────\n",
      "                           ││││\n",
      "(1, 0): ───────────────────X┼┼┼────\n",
      "                            │││\n",
      "(1, 1): ────────────────────X┼┼────\n",
      "                             ││\n",
      "(1, 2): ─────────────────────X┼────\n",
      "                              │\n",
      "(1, 3): ──────────────────────X────\n",
      "                   └──┘   └────┘\n"
     ]
    }
   ],
   "execution_count": 18
  },
  {
   "metadata": {},
   "cell_type": "markdown",
   "source": "Now let's compare the circuits using these two geometries after passing through the noise model.",
   "id": "3248a66ce1968c30"
  },
  {
   "metadata": {
    "ExecuteTime": {
     "end_time": "2025-08-08T12:37:09.028086Z",
     "start_time": "2025-08-08T12:37:08.994331Z"
    }
   },
   "cell_type": "code",
   "source": [
    "model = GeminiOneZoneNoiseModelConflictGraphMoves()\n",
    "circuit1_noisy = transform_circuit(geometry1, model=model)\n",
    "print(f'Geometry one required {len(circuit1_noisy)} total moments')"
   ],
   "id": "1ca447d503bd02b2",
   "outputs": [
    {
     "name": "stdout",
     "output_type": "stream",
     "text": [
      "Geometry one required 24 total moments\n"
     ]
    },
    {
     "name": "stderr",
     "output_type": "stream",
     "text": [
      "/Users/tylercochran/Documents/QuEra_repos/bloqade/.venv/lib/python3.10/site-packages/cirq/circuits/circuit_operation.py:173: FutureWarning: In cirq 1.6 the default value of `use_repetition_ids` will change to\n",
      "`use_repetition_ids=False`. To make this warning go away, please pass\n",
      "explicit `use_repetition_ids`, e.g., to preserve current behavior, use\n",
      "\n",
      "  CircuitOperations(..., use_repetition_ids=True)\n",
      "  warnings.warn(msg, FutureWarning)\n",
      "/Users/tylercochran/Documents/QuEra_repos/bloqade/.venv/lib/python3.10/site-packages/cirq/circuits/circuit_operation.py:173: FutureWarning: In cirq 1.6 the default value of `use_repetition_ids` will change to\n",
      "`use_repetition_ids=False`. To make this warning go away, please pass\n",
      "explicit `use_repetition_ids`, e.g., to preserve current behavior, use\n",
      "\n",
      "  CircuitOperations(..., use_repetition_ids=True)\n",
      "  warnings.warn(msg, FutureWarning)\n",
      "/Users/tylercochran/Documents/QuEra_repos/bloqade/.venv/lib/python3.10/site-packages/cirq/circuits/circuit_operation.py:173: FutureWarning: In cirq 1.6 the default value of `use_repetition_ids` will change to\n",
      "`use_repetition_ids=False`. To make this warning go away, please pass\n",
      "explicit `use_repetition_ids`, e.g., to preserve current behavior, use\n",
      "\n",
      "  CircuitOperations(..., use_repetition_ids=True)\n",
      "  warnings.warn(msg, FutureWarning)\n",
      "/Users/tylercochran/Documents/QuEra_repos/bloqade/.venv/lib/python3.10/site-packages/cirq/circuits/circuit_operation.py:173: FutureWarning: In cirq 1.6 the default value of `use_repetition_ids` will change to\n",
      "`use_repetition_ids=False`. To make this warning go away, please pass\n",
      "explicit `use_repetition_ids`, e.g., to preserve current behavior, use\n",
      "\n",
      "  CircuitOperations(..., use_repetition_ids=True)\n",
      "  warnings.warn(msg, FutureWarning)\n",
      "/Users/tylercochran/Documents/QuEra_repos/bloqade/.venv/lib/python3.10/site-packages/cirq/circuits/circuit_operation.py:173: FutureWarning: In cirq 1.6 the default value of `use_repetition_ids` will change to\n",
      "`use_repetition_ids=False`. To make this warning go away, please pass\n",
      "explicit `use_repetition_ids`, e.g., to preserve current behavior, use\n",
      "\n",
      "  CircuitOperations(..., use_repetition_ids=True)\n",
      "  warnings.warn(msg, FutureWarning)\n",
      "/Users/tylercochran/Documents/QuEra_repos/bloqade/.venv/lib/python3.10/site-packages/cirq/circuits/circuit_operation.py:173: FutureWarning: In cirq 1.6 the default value of `use_repetition_ids` will change to\n",
      "`use_repetition_ids=False`. To make this warning go away, please pass\n",
      "explicit `use_repetition_ids`, e.g., to preserve current behavior, use\n",
      "\n",
      "  CircuitOperations(..., use_repetition_ids=True)\n",
      "  warnings.warn(msg, FutureWarning)\n",
      "/Users/tylercochran/Documents/QuEra_repos/bloqade/.venv/lib/python3.10/site-packages/cirq/circuits/circuit_operation.py:173: FutureWarning: In cirq 1.6 the default value of `use_repetition_ids` will change to\n",
      "`use_repetition_ids=False`. To make this warning go away, please pass\n",
      "explicit `use_repetition_ids`, e.g., to preserve current behavior, use\n",
      "\n",
      "  CircuitOperations(..., use_repetition_ids=True)\n",
      "  warnings.warn(msg, FutureWarning)\n",
      "/Users/tylercochran/Documents/QuEra_repos/bloqade/.venv/lib/python3.10/site-packages/cirq/circuits/circuit_operation.py:173: FutureWarning: In cirq 1.6 the default value of `use_repetition_ids` will change to\n",
      "`use_repetition_ids=False`. To make this warning go away, please pass\n",
      "explicit `use_repetition_ids`, e.g., to preserve current behavior, use\n",
      "\n",
      "  CircuitOperations(..., use_repetition_ids=True)\n",
      "  warnings.warn(msg, FutureWarning)\n",
      "/Users/tylercochran/Documents/QuEra_repos/bloqade/.venv/lib/python3.10/site-packages/cirq/circuits/circuit_operation.py:173: FutureWarning: In cirq 1.6 the default value of `use_repetition_ids` will change to\n",
      "`use_repetition_ids=False`. To make this warning go away, please pass\n",
      "explicit `use_repetition_ids`, e.g., to preserve current behavior, use\n",
      "\n",
      "  CircuitOperations(..., use_repetition_ids=True)\n",
      "  warnings.warn(msg, FutureWarning)\n",
      "/Users/tylercochran/Documents/QuEra_repos/bloqade/.venv/lib/python3.10/site-packages/cirq/circuits/circuit_operation.py:173: FutureWarning: In cirq 1.6 the default value of `use_repetition_ids` will change to\n",
      "`use_repetition_ids=False`. To make this warning go away, please pass\n",
      "explicit `use_repetition_ids`, e.g., to preserve current behavior, use\n",
      "\n",
      "  CircuitOperations(..., use_repetition_ids=True)\n",
      "  warnings.warn(msg, FutureWarning)\n",
      "/Users/tylercochran/Documents/QuEra_repos/bloqade/.venv/lib/python3.10/site-packages/cirq/circuits/circuit_operation.py:173: FutureWarning: In cirq 1.6 the default value of `use_repetition_ids` will change to\n",
      "`use_repetition_ids=False`. To make this warning go away, please pass\n",
      "explicit `use_repetition_ids`, e.g., to preserve current behavior, use\n",
      "\n",
      "  CircuitOperations(..., use_repetition_ids=True)\n",
      "  warnings.warn(msg, FutureWarning)\n",
      "/Users/tylercochran/Documents/QuEra_repos/bloqade/.venv/lib/python3.10/site-packages/cirq/circuits/circuit_operation.py:173: FutureWarning: In cirq 1.6 the default value of `use_repetition_ids` will change to\n",
      "`use_repetition_ids=False`. To make this warning go away, please pass\n",
      "explicit `use_repetition_ids`, e.g., to preserve current behavior, use\n",
      "\n",
      "  CircuitOperations(..., use_repetition_ids=True)\n",
      "  warnings.warn(msg, FutureWarning)\n",
      "/Users/tylercochran/Documents/QuEra_repos/bloqade/.venv/lib/python3.10/site-packages/cirq/circuits/circuit_operation.py:173: FutureWarning: In cirq 1.6 the default value of `use_repetition_ids` will change to\n",
      "`use_repetition_ids=False`. To make this warning go away, please pass\n",
      "explicit `use_repetition_ids`, e.g., to preserve current behavior, use\n",
      "\n",
      "  CircuitOperations(..., use_repetition_ids=True)\n",
      "  warnings.warn(msg, FutureWarning)\n",
      "/Users/tylercochran/Documents/QuEra_repos/bloqade/.venv/lib/python3.10/site-packages/cirq/circuits/circuit_operation.py:173: FutureWarning: In cirq 1.6 the default value of `use_repetition_ids` will change to\n",
      "`use_repetition_ids=False`. To make this warning go away, please pass\n",
      "explicit `use_repetition_ids`, e.g., to preserve current behavior, use\n",
      "\n",
      "  CircuitOperations(..., use_repetition_ids=True)\n",
      "  warnings.warn(msg, FutureWarning)\n",
      "/Users/tylercochran/Documents/QuEra_repos/bloqade/.venv/lib/python3.10/site-packages/cirq/circuits/circuit_operation.py:173: FutureWarning: In cirq 1.6 the default value of `use_repetition_ids` will change to\n",
      "`use_repetition_ids=False`. To make this warning go away, please pass\n",
      "explicit `use_repetition_ids`, e.g., to preserve current behavior, use\n",
      "\n",
      "  CircuitOperations(..., use_repetition_ids=True)\n",
      "  warnings.warn(msg, FutureWarning)\n",
      "/Users/tylercochran/Documents/QuEra_repos/bloqade/.venv/lib/python3.10/site-packages/cirq/circuits/circuit_operation.py:173: FutureWarning: In cirq 1.6 the default value of `use_repetition_ids` will change to\n",
      "`use_repetition_ids=False`. To make this warning go away, please pass\n",
      "explicit `use_repetition_ids`, e.g., to preserve current behavior, use\n",
      "\n",
      "  CircuitOperations(..., use_repetition_ids=True)\n",
      "  warnings.warn(msg, FutureWarning)\n",
      "/Users/tylercochran/Documents/QuEra_repos/bloqade/.venv/lib/python3.10/site-packages/cirq/circuits/circuit_operation.py:173: FutureWarning: In cirq 1.6 the default value of `use_repetition_ids` will change to\n",
      "`use_repetition_ids=False`. To make this warning go away, please pass\n",
      "explicit `use_repetition_ids`, e.g., to preserve current behavior, use\n",
      "\n",
      "  CircuitOperations(..., use_repetition_ids=True)\n",
      "  warnings.warn(msg, FutureWarning)\n",
      "/Users/tylercochran/Documents/QuEra_repos/bloqade/.venv/lib/python3.10/site-packages/cirq/circuits/circuit_operation.py:173: FutureWarning: In cirq 1.6 the default value of `use_repetition_ids` will change to\n",
      "`use_repetition_ids=False`. To make this warning go away, please pass\n",
      "explicit `use_repetition_ids`, e.g., to preserve current behavior, use\n",
      "\n",
      "  CircuitOperations(..., use_repetition_ids=True)\n",
      "  warnings.warn(msg, FutureWarning)\n",
      "/Users/tylercochran/Documents/QuEra_repos/bloqade/.venv/lib/python3.10/site-packages/cirq/circuits/circuit_operation.py:173: FutureWarning: In cirq 1.6 the default value of `use_repetition_ids` will change to\n",
      "`use_repetition_ids=False`. To make this warning go away, please pass\n",
      "explicit `use_repetition_ids`, e.g., to preserve current behavior, use\n",
      "\n",
      "  CircuitOperations(..., use_repetition_ids=True)\n",
      "  warnings.warn(msg, FutureWarning)\n",
      "/Users/tylercochran/Documents/QuEra_repos/bloqade/.venv/lib/python3.10/site-packages/cirq/circuits/circuit_operation.py:173: FutureWarning: In cirq 1.6 the default value of `use_repetition_ids` will change to\n",
      "`use_repetition_ids=False`. To make this warning go away, please pass\n",
      "explicit `use_repetition_ids`, e.g., to preserve current behavior, use\n",
      "\n",
      "  CircuitOperations(..., use_repetition_ids=True)\n",
      "  warnings.warn(msg, FutureWarning)\n",
      "/Users/tylercochran/Documents/QuEra_repos/bloqade/.venv/lib/python3.10/site-packages/cirq/circuits/circuit_operation.py:173: FutureWarning: In cirq 1.6 the default value of `use_repetition_ids` will change to\n",
      "`use_repetition_ids=False`. To make this warning go away, please pass\n",
      "explicit `use_repetition_ids`, e.g., to preserve current behavior, use\n",
      "\n",
      "  CircuitOperations(..., use_repetition_ids=True)\n",
      "  warnings.warn(msg, FutureWarning)\n",
      "/Users/tylercochran/Documents/QuEra_repos/bloqade/.venv/lib/python3.10/site-packages/cirq/circuits/circuit_operation.py:173: FutureWarning: In cirq 1.6 the default value of `use_repetition_ids` will change to\n",
      "`use_repetition_ids=False`. To make this warning go away, please pass\n",
      "explicit `use_repetition_ids`, e.g., to preserve current behavior, use\n",
      "\n",
      "  CircuitOperations(..., use_repetition_ids=True)\n",
      "  warnings.warn(msg, FutureWarning)\n",
      "/Users/tylercochran/Documents/QuEra_repos/bloqade/.venv/lib/python3.10/site-packages/cirq/circuits/circuit_operation.py:173: FutureWarning: In cirq 1.6 the default value of `use_repetition_ids` will change to\n",
      "`use_repetition_ids=False`. To make this warning go away, please pass\n",
      "explicit `use_repetition_ids`, e.g., to preserve current behavior, use\n",
      "\n",
      "  CircuitOperations(..., use_repetition_ids=True)\n",
      "  warnings.warn(msg, FutureWarning)\n",
      "/Users/tylercochran/Documents/QuEra_repos/bloqade/.venv/lib/python3.10/site-packages/cirq/circuits/circuit_operation.py:173: FutureWarning: In cirq 1.6 the default value of `use_repetition_ids` will change to\n",
      "`use_repetition_ids=False`. To make this warning go away, please pass\n",
      "explicit `use_repetition_ids`, e.g., to preserve current behavior, use\n",
      "\n",
      "  CircuitOperations(..., use_repetition_ids=True)\n",
      "  warnings.warn(msg, FutureWarning)\n",
      "/Users/tylercochran/Documents/QuEra_repos/bloqade/.venv/lib/python3.10/site-packages/cirq/circuits/circuit_operation.py:173: FutureWarning: In cirq 1.6 the default value of `use_repetition_ids` will change to\n",
      "`use_repetition_ids=False`. To make this warning go away, please pass\n",
      "explicit `use_repetition_ids`, e.g., to preserve current behavior, use\n",
      "\n",
      "  CircuitOperations(..., use_repetition_ids=True)\n",
      "  warnings.warn(msg, FutureWarning)\n",
      "/Users/tylercochran/Documents/QuEra_repos/bloqade/.venv/lib/python3.10/site-packages/cirq/circuits/circuit_operation.py:173: FutureWarning: In cirq 1.6 the default value of `use_repetition_ids` will change to\n",
      "`use_repetition_ids=False`. To make this warning go away, please pass\n",
      "explicit `use_repetition_ids`, e.g., to preserve current behavior, use\n",
      "\n",
      "  CircuitOperations(..., use_repetition_ids=True)\n",
      "  warnings.warn(msg, FutureWarning)\n",
      "/Users/tylercochran/Documents/QuEra_repos/bloqade/.venv/lib/python3.10/site-packages/cirq/circuits/circuit_operation.py:173: FutureWarning: In cirq 1.6 the default value of `use_repetition_ids` will change to\n",
      "`use_repetition_ids=False`. To make this warning go away, please pass\n",
      "explicit `use_repetition_ids`, e.g., to preserve current behavior, use\n",
      "\n",
      "  CircuitOperations(..., use_repetition_ids=True)\n",
      "  warnings.warn(msg, FutureWarning)\n",
      "/Users/tylercochran/Documents/QuEra_repos/bloqade/.venv/lib/python3.10/site-packages/cirq/circuits/circuit_operation.py:173: FutureWarning: In cirq 1.6 the default value of `use_repetition_ids` will change to\n",
      "`use_repetition_ids=False`. To make this warning go away, please pass\n",
      "explicit `use_repetition_ids`, e.g., to preserve current behavior, use\n",
      "\n",
      "  CircuitOperations(..., use_repetition_ids=True)\n",
      "  warnings.warn(msg, FutureWarning)\n",
      "/Users/tylercochran/Documents/QuEra_repos/bloqade/.venv/lib/python3.10/site-packages/cirq/circuits/circuit_operation.py:173: FutureWarning: In cirq 1.6 the default value of `use_repetition_ids` will change to\n",
      "`use_repetition_ids=False`. To make this warning go away, please pass\n",
      "explicit `use_repetition_ids`, e.g., to preserve current behavior, use\n",
      "\n",
      "  CircuitOperations(..., use_repetition_ids=True)\n",
      "  warnings.warn(msg, FutureWarning)\n",
      "/Users/tylercochran/Documents/QuEra_repos/bloqade/.venv/lib/python3.10/site-packages/cirq/circuits/circuit_operation.py:173: FutureWarning: In cirq 1.6 the default value of `use_repetition_ids` will change to\n",
      "`use_repetition_ids=False`. To make this warning go away, please pass\n",
      "explicit `use_repetition_ids`, e.g., to preserve current behavior, use\n",
      "\n",
      "  CircuitOperations(..., use_repetition_ids=True)\n",
      "  warnings.warn(msg, FutureWarning)\n",
      "/Users/tylercochran/Documents/QuEra_repos/bloqade/.venv/lib/python3.10/site-packages/cirq/circuits/circuit_operation.py:173: FutureWarning: In cirq 1.6 the default value of `use_repetition_ids` will change to\n",
      "`use_repetition_ids=False`. To make this warning go away, please pass\n",
      "explicit `use_repetition_ids`, e.g., to preserve current behavior, use\n",
      "\n",
      "  CircuitOperations(..., use_repetition_ids=True)\n",
      "  warnings.warn(msg, FutureWarning)\n",
      "/Users/tylercochran/Documents/QuEra_repos/bloqade/.venv/lib/python3.10/site-packages/cirq/circuits/circuit_operation.py:173: FutureWarning: In cirq 1.6 the default value of `use_repetition_ids` will change to\n",
      "`use_repetition_ids=False`. To make this warning go away, please pass\n",
      "explicit `use_repetition_ids`, e.g., to preserve current behavior, use\n",
      "\n",
      "  CircuitOperations(..., use_repetition_ids=True)\n",
      "  warnings.warn(msg, FutureWarning)\n",
      "/Users/tylercochran/Documents/QuEra_repos/bloqade/.venv/lib/python3.10/site-packages/cirq/circuits/circuit_operation.py:173: FutureWarning: In cirq 1.6 the default value of `use_repetition_ids` will change to\n",
      "`use_repetition_ids=False`. To make this warning go away, please pass\n",
      "explicit `use_repetition_ids`, e.g., to preserve current behavior, use\n",
      "\n",
      "  CircuitOperations(..., use_repetition_ids=True)\n",
      "  warnings.warn(msg, FutureWarning)\n",
      "/Users/tylercochran/Documents/QuEra_repos/bloqade/.venv/lib/python3.10/site-packages/cirq/circuits/circuit_operation.py:173: FutureWarning: In cirq 1.6 the default value of `use_repetition_ids` will change to\n",
      "`use_repetition_ids=False`. To make this warning go away, please pass\n",
      "explicit `use_repetition_ids`, e.g., to preserve current behavior, use\n",
      "\n",
      "  CircuitOperations(..., use_repetition_ids=True)\n",
      "  warnings.warn(msg, FutureWarning)\n",
      "/Users/tylercochran/Documents/QuEra_repos/bloqade/.venv/lib/python3.10/site-packages/cirq/circuits/circuit_operation.py:173: FutureWarning: In cirq 1.6 the default value of `use_repetition_ids` will change to\n",
      "`use_repetition_ids=False`. To make this warning go away, please pass\n",
      "explicit `use_repetition_ids`, e.g., to preserve current behavior, use\n",
      "\n",
      "  CircuitOperations(..., use_repetition_ids=True)\n",
      "  warnings.warn(msg, FutureWarning)\n",
      "/Users/tylercochran/Documents/QuEra_repos/bloqade/.venv/lib/python3.10/site-packages/cirq/circuits/circuit_operation.py:173: FutureWarning: In cirq 1.6 the default value of `use_repetition_ids` will change to\n",
      "`use_repetition_ids=False`. To make this warning go away, please pass\n",
      "explicit `use_repetition_ids`, e.g., to preserve current behavior, use\n",
      "\n",
      "  CircuitOperations(..., use_repetition_ids=True)\n",
      "  warnings.warn(msg, FutureWarning)\n",
      "/Users/tylercochran/Documents/QuEra_repos/bloqade/.venv/lib/python3.10/site-packages/cirq/circuits/circuit_operation.py:173: FutureWarning: In cirq 1.6 the default value of `use_repetition_ids` will change to\n",
      "`use_repetition_ids=False`. To make this warning go away, please pass\n",
      "explicit `use_repetition_ids`, e.g., to preserve current behavior, use\n",
      "\n",
      "  CircuitOperations(..., use_repetition_ids=True)\n",
      "  warnings.warn(msg, FutureWarning)\n",
      "/Users/tylercochran/Documents/QuEra_repos/bloqade/.venv/lib/python3.10/site-packages/cirq/circuits/circuit_operation.py:173: FutureWarning: In cirq 1.6 the default value of `use_repetition_ids` will change to\n",
      "`use_repetition_ids=False`. To make this warning go away, please pass\n",
      "explicit `use_repetition_ids`, e.g., to preserve current behavior, use\n",
      "\n",
      "  CircuitOperations(..., use_repetition_ids=True)\n",
      "  warnings.warn(msg, FutureWarning)\n",
      "/Users/tylercochran/Documents/QuEra_repos/bloqade/.venv/lib/python3.10/site-packages/cirq/circuits/circuit_operation.py:173: FutureWarning: In cirq 1.6 the default value of `use_repetition_ids` will change to\n",
      "`use_repetition_ids=False`. To make this warning go away, please pass\n",
      "explicit `use_repetition_ids`, e.g., to preserve current behavior, use\n",
      "\n",
      "  CircuitOperations(..., use_repetition_ids=True)\n",
      "  warnings.warn(msg, FutureWarning)\n",
      "/Users/tylercochran/Documents/QuEra_repos/bloqade/.venv/lib/python3.10/site-packages/cirq/circuits/circuit_operation.py:173: FutureWarning: In cirq 1.6 the default value of `use_repetition_ids` will change to\n",
      "`use_repetition_ids=False`. To make this warning go away, please pass\n",
      "explicit `use_repetition_ids`, e.g., to preserve current behavior, use\n",
      "\n",
      "  CircuitOperations(..., use_repetition_ids=True)\n",
      "  warnings.warn(msg, FutureWarning)\n",
      "/Users/tylercochran/Documents/QuEra_repos/bloqade/.venv/lib/python3.10/site-packages/cirq/circuits/circuit_operation.py:173: FutureWarning: In cirq 1.6 the default value of `use_repetition_ids` will change to\n",
      "`use_repetition_ids=False`. To make this warning go away, please pass\n",
      "explicit `use_repetition_ids`, e.g., to preserve current behavior, use\n",
      "\n",
      "  CircuitOperations(..., use_repetition_ids=True)\n",
      "  warnings.warn(msg, FutureWarning)\n",
      "/Users/tylercochran/Documents/QuEra_repos/bloqade/.venv/lib/python3.10/site-packages/cirq/circuits/circuit_operation.py:173: FutureWarning: In cirq 1.6 the default value of `use_repetition_ids` will change to\n",
      "`use_repetition_ids=False`. To make this warning go away, please pass\n",
      "explicit `use_repetition_ids`, e.g., to preserve current behavior, use\n",
      "\n",
      "  CircuitOperations(..., use_repetition_ids=True)\n",
      "  warnings.warn(msg, FutureWarning)\n",
      "/Users/tylercochran/Documents/QuEra_repos/bloqade/.venv/lib/python3.10/site-packages/cirq/circuits/circuit_operation.py:173: FutureWarning: In cirq 1.6 the default value of `use_repetition_ids` will change to\n",
      "`use_repetition_ids=False`. To make this warning go away, please pass\n",
      "explicit `use_repetition_ids`, e.g., to preserve current behavior, use\n",
      "\n",
      "  CircuitOperations(..., use_repetition_ids=True)\n",
      "  warnings.warn(msg, FutureWarning)\n",
      "/Users/tylercochran/Documents/QuEra_repos/bloqade/.venv/lib/python3.10/site-packages/cirq/circuits/circuit_operation.py:173: FutureWarning: In cirq 1.6 the default value of `use_repetition_ids` will change to\n",
      "`use_repetition_ids=False`. To make this warning go away, please pass\n",
      "explicit `use_repetition_ids`, e.g., to preserve current behavior, use\n",
      "\n",
      "  CircuitOperations(..., use_repetition_ids=True)\n",
      "  warnings.warn(msg, FutureWarning)\n",
      "/Users/tylercochran/Documents/QuEra_repos/bloqade/.venv/lib/python3.10/site-packages/cirq/circuits/circuit_operation.py:173: FutureWarning: In cirq 1.6 the default value of `use_repetition_ids` will change to\n",
      "`use_repetition_ids=False`. To make this warning go away, please pass\n",
      "explicit `use_repetition_ids`, e.g., to preserve current behavior, use\n",
      "\n",
      "  CircuitOperations(..., use_repetition_ids=True)\n",
      "  warnings.warn(msg, FutureWarning)\n",
      "/Users/tylercochran/Documents/QuEra_repos/bloqade/.venv/lib/python3.10/site-packages/cirq/circuits/circuit_operation.py:173: FutureWarning: In cirq 1.6 the default value of `use_repetition_ids` will change to\n",
      "`use_repetition_ids=False`. To make this warning go away, please pass\n",
      "explicit `use_repetition_ids`, e.g., to preserve current behavior, use\n",
      "\n",
      "  CircuitOperations(..., use_repetition_ids=True)\n",
      "  warnings.warn(msg, FutureWarning)\n",
      "/Users/tylercochran/Documents/QuEra_repos/bloqade/.venv/lib/python3.10/site-packages/cirq/circuits/circuit_operation.py:173: FutureWarning: In cirq 1.6 the default value of `use_repetition_ids` will change to\n",
      "`use_repetition_ids=False`. To make this warning go away, please pass\n",
      "explicit `use_repetition_ids`, e.g., to preserve current behavior, use\n",
      "\n",
      "  CircuitOperations(..., use_repetition_ids=True)\n",
      "  warnings.warn(msg, FutureWarning)\n",
      "/Users/tylercochran/Documents/QuEra_repos/bloqade/.venv/lib/python3.10/site-packages/cirq/circuits/circuit_operation.py:173: FutureWarning: In cirq 1.6 the default value of `use_repetition_ids` will change to\n",
      "`use_repetition_ids=False`. To make this warning go away, please pass\n",
      "explicit `use_repetition_ids`, e.g., to preserve current behavior, use\n",
      "\n",
      "  CircuitOperations(..., use_repetition_ids=True)\n",
      "  warnings.warn(msg, FutureWarning)\n",
      "/Users/tylercochran/Documents/QuEra_repos/bloqade/.venv/lib/python3.10/site-packages/cirq/circuits/circuit_operation.py:173: FutureWarning: In cirq 1.6 the default value of `use_repetition_ids` will change to\n",
      "`use_repetition_ids=False`. To make this warning go away, please pass\n",
      "explicit `use_repetition_ids`, e.g., to preserve current behavior, use\n",
      "\n",
      "  CircuitOperations(..., use_repetition_ids=True)\n",
      "  warnings.warn(msg, FutureWarning)\n",
      "/Users/tylercochran/Documents/QuEra_repos/bloqade/.venv/lib/python3.10/site-packages/cirq/circuits/circuit_operation.py:173: FutureWarning: In cirq 1.6 the default value of `use_repetition_ids` will change to\n",
      "`use_repetition_ids=False`. To make this warning go away, please pass\n",
      "explicit `use_repetition_ids`, e.g., to preserve current behavior, use\n",
      "\n",
      "  CircuitOperations(..., use_repetition_ids=True)\n",
      "  warnings.warn(msg, FutureWarning)\n",
      "/Users/tylercochran/Documents/QuEra_repos/bloqade/.venv/lib/python3.10/site-packages/cirq/circuits/circuit_operation.py:173: FutureWarning: In cirq 1.6 the default value of `use_repetition_ids` will change to\n",
      "`use_repetition_ids=False`. To make this warning go away, please pass\n",
      "explicit `use_repetition_ids`, e.g., to preserve current behavior, use\n",
      "\n",
      "  CircuitOperations(..., use_repetition_ids=True)\n",
      "  warnings.warn(msg, FutureWarning)\n",
      "/Users/tylercochran/Documents/QuEra_repos/bloqade/.venv/lib/python3.10/site-packages/cirq/circuits/circuit_operation.py:173: FutureWarning: In cirq 1.6 the default value of `use_repetition_ids` will change to\n",
      "`use_repetition_ids=False`. To make this warning go away, please pass\n",
      "explicit `use_repetition_ids`, e.g., to preserve current behavior, use\n",
      "\n",
      "  CircuitOperations(..., use_repetition_ids=True)\n",
      "  warnings.warn(msg, FutureWarning)\n",
      "/Users/tylercochran/Documents/QuEra_repos/bloqade/.venv/lib/python3.10/site-packages/cirq/circuits/circuit_operation.py:173: FutureWarning: In cirq 1.6 the default value of `use_repetition_ids` will change to\n",
      "`use_repetition_ids=False`. To make this warning go away, please pass\n",
      "explicit `use_repetition_ids`, e.g., to preserve current behavior, use\n",
      "\n",
      "  CircuitOperations(..., use_repetition_ids=True)\n",
      "  warnings.warn(msg, FutureWarning)\n",
      "/Users/tylercochran/Documents/QuEra_repos/bloqade/.venv/lib/python3.10/site-packages/cirq/circuits/circuit_operation.py:173: FutureWarning: In cirq 1.6 the default value of `use_repetition_ids` will change to\n",
      "`use_repetition_ids=False`. To make this warning go away, please pass\n",
      "explicit `use_repetition_ids`, e.g., to preserve current behavior, use\n",
      "\n",
      "  CircuitOperations(..., use_repetition_ids=True)\n",
      "  warnings.warn(msg, FutureWarning)\n",
      "/Users/tylercochran/Documents/QuEra_repos/bloqade/.venv/lib/python3.10/site-packages/cirq/circuits/circuit_operation.py:173: FutureWarning: In cirq 1.6 the default value of `use_repetition_ids` will change to\n",
      "`use_repetition_ids=False`. To make this warning go away, please pass\n",
      "explicit `use_repetition_ids`, e.g., to preserve current behavior, use\n",
      "\n",
      "  CircuitOperations(..., use_repetition_ids=True)\n",
      "  warnings.warn(msg, FutureWarning)\n",
      "/Users/tylercochran/Documents/QuEra_repos/bloqade/.venv/lib/python3.10/site-packages/cirq/circuits/circuit_operation.py:173: FutureWarning: In cirq 1.6 the default value of `use_repetition_ids` will change to\n",
      "`use_repetition_ids=False`. To make this warning go away, please pass\n",
      "explicit `use_repetition_ids`, e.g., to preserve current behavior, use\n",
      "\n",
      "  CircuitOperations(..., use_repetition_ids=True)\n",
      "  warnings.warn(msg, FutureWarning)\n",
      "/Users/tylercochran/Documents/QuEra_repos/bloqade/.venv/lib/python3.10/site-packages/cirq/circuits/circuit_operation.py:173: FutureWarning: In cirq 1.6 the default value of `use_repetition_ids` will change to\n",
      "`use_repetition_ids=False`. To make this warning go away, please pass\n",
      "explicit `use_repetition_ids`, e.g., to preserve current behavior, use\n",
      "\n",
      "  CircuitOperations(..., use_repetition_ids=True)\n",
      "  warnings.warn(msg, FutureWarning)\n",
      "/Users/tylercochran/Documents/QuEra_repos/bloqade/.venv/lib/python3.10/site-packages/cirq/circuits/circuit_operation.py:173: FutureWarning: In cirq 1.6 the default value of `use_repetition_ids` will change to\n",
      "`use_repetition_ids=False`. To make this warning go away, please pass\n",
      "explicit `use_repetition_ids`, e.g., to preserve current behavior, use\n",
      "\n",
      "  CircuitOperations(..., use_repetition_ids=True)\n",
      "  warnings.warn(msg, FutureWarning)\n",
      "/Users/tylercochran/Documents/QuEra_repos/bloqade/.venv/lib/python3.10/site-packages/cirq/circuits/circuit_operation.py:173: FutureWarning: In cirq 1.6 the default value of `use_repetition_ids` will change to\n",
      "`use_repetition_ids=False`. To make this warning go away, please pass\n",
      "explicit `use_repetition_ids`, e.g., to preserve current behavior, use\n",
      "\n",
      "  CircuitOperations(..., use_repetition_ids=True)\n",
      "  warnings.warn(msg, FutureWarning)\n",
      "/Users/tylercochran/Documents/QuEra_repos/bloqade/.venv/lib/python3.10/site-packages/cirq/circuits/circuit_operation.py:173: FutureWarning: In cirq 1.6 the default value of `use_repetition_ids` will change to\n",
      "`use_repetition_ids=False`. To make this warning go away, please pass\n",
      "explicit `use_repetition_ids`, e.g., to preserve current behavior, use\n",
      "\n",
      "  CircuitOperations(..., use_repetition_ids=True)\n",
      "  warnings.warn(msg, FutureWarning)\n",
      "/Users/tylercochran/Documents/QuEra_repos/bloqade/.venv/lib/python3.10/site-packages/cirq/circuits/circuit_operation.py:173: FutureWarning: In cirq 1.6 the default value of `use_repetition_ids` will change to\n",
      "`use_repetition_ids=False`. To make this warning go away, please pass\n",
      "explicit `use_repetition_ids`, e.g., to preserve current behavior, use\n",
      "\n",
      "  CircuitOperations(..., use_repetition_ids=True)\n",
      "  warnings.warn(msg, FutureWarning)\n",
      "/Users/tylercochran/Documents/QuEra_repos/bloqade/.venv/lib/python3.10/site-packages/cirq/circuits/circuit_operation.py:173: FutureWarning: In cirq 1.6 the default value of `use_repetition_ids` will change to\n",
      "`use_repetition_ids=False`. To make this warning go away, please pass\n",
      "explicit `use_repetition_ids`, e.g., to preserve current behavior, use\n",
      "\n",
      "  CircuitOperations(..., use_repetition_ids=True)\n",
      "  warnings.warn(msg, FutureWarning)\n",
      "/Users/tylercochran/Documents/QuEra_repos/bloqade/.venv/lib/python3.10/site-packages/cirq/circuits/circuit_operation.py:173: FutureWarning: In cirq 1.6 the default value of `use_repetition_ids` will change to\n",
      "`use_repetition_ids=False`. To make this warning go away, please pass\n",
      "explicit `use_repetition_ids`, e.g., to preserve current behavior, use\n",
      "\n",
      "  CircuitOperations(..., use_repetition_ids=True)\n",
      "  warnings.warn(msg, FutureWarning)\n",
      "/Users/tylercochran/Documents/QuEra_repos/bloqade/.venv/lib/python3.10/site-packages/cirq/circuits/circuit_operation.py:173: FutureWarning: In cirq 1.6 the default value of `use_repetition_ids` will change to\n",
      "`use_repetition_ids=False`. To make this warning go away, please pass\n",
      "explicit `use_repetition_ids`, e.g., to preserve current behavior, use\n",
      "\n",
      "  CircuitOperations(..., use_repetition_ids=True)\n",
      "  warnings.warn(msg, FutureWarning)\n",
      "/Users/tylercochran/Documents/QuEra_repos/bloqade/.venv/lib/python3.10/site-packages/cirq/circuits/circuit_operation.py:173: FutureWarning: In cirq 1.6 the default value of `use_repetition_ids` will change to\n",
      "`use_repetition_ids=False`. To make this warning go away, please pass\n",
      "explicit `use_repetition_ids`, e.g., to preserve current behavior, use\n",
      "\n",
      "  CircuitOperations(..., use_repetition_ids=True)\n",
      "  warnings.warn(msg, FutureWarning)\n",
      "/Users/tylercochran/Documents/QuEra_repos/bloqade/.venv/lib/python3.10/site-packages/cirq/circuits/circuit_operation.py:173: FutureWarning: In cirq 1.6 the default value of `use_repetition_ids` will change to\n",
      "`use_repetition_ids=False`. To make this warning go away, please pass\n",
      "explicit `use_repetition_ids`, e.g., to preserve current behavior, use\n",
      "\n",
      "  CircuitOperations(..., use_repetition_ids=True)\n",
      "  warnings.warn(msg, FutureWarning)\n",
      "/Users/tylercochran/Documents/QuEra_repos/bloqade/.venv/lib/python3.10/site-packages/cirq/circuits/circuit_operation.py:173: FutureWarning: In cirq 1.6 the default value of `use_repetition_ids` will change to\n",
      "`use_repetition_ids=False`. To make this warning go away, please pass\n",
      "explicit `use_repetition_ids`, e.g., to preserve current behavior, use\n",
      "\n",
      "  CircuitOperations(..., use_repetition_ids=True)\n",
      "  warnings.warn(msg, FutureWarning)\n",
      "/Users/tylercochran/Documents/QuEra_repos/bloqade/.venv/lib/python3.10/site-packages/cirq/circuits/circuit_operation.py:173: FutureWarning: In cirq 1.6 the default value of `use_repetition_ids` will change to\n",
      "`use_repetition_ids=False`. To make this warning go away, please pass\n",
      "explicit `use_repetition_ids`, e.g., to preserve current behavior, use\n",
      "\n",
      "  CircuitOperations(..., use_repetition_ids=True)\n",
      "  warnings.warn(msg, FutureWarning)\n",
      "/Users/tylercochran/Documents/QuEra_repos/bloqade/.venv/lib/python3.10/site-packages/cirq/circuits/circuit_operation.py:173: FutureWarning: In cirq 1.6 the default value of `use_repetition_ids` will change to\n",
      "`use_repetition_ids=False`. To make this warning go away, please pass\n",
      "explicit `use_repetition_ids`, e.g., to preserve current behavior, use\n",
      "\n",
      "  CircuitOperations(..., use_repetition_ids=True)\n",
      "  warnings.warn(msg, FutureWarning)\n",
      "/Users/tylercochran/Documents/QuEra_repos/bloqade/.venv/lib/python3.10/site-packages/cirq/circuits/circuit_operation.py:173: FutureWarning: In cirq 1.6 the default value of `use_repetition_ids` will change to\n",
      "`use_repetition_ids=False`. To make this warning go away, please pass\n",
      "explicit `use_repetition_ids`, e.g., to preserve current behavior, use\n",
      "\n",
      "  CircuitOperations(..., use_repetition_ids=True)\n",
      "  warnings.warn(msg, FutureWarning)\n",
      "/Users/tylercochran/Documents/QuEra_repos/bloqade/.venv/lib/python3.10/site-packages/cirq/circuits/circuit_operation.py:173: FutureWarning: In cirq 1.6 the default value of `use_repetition_ids` will change to\n",
      "`use_repetition_ids=False`. To make this warning go away, please pass\n",
      "explicit `use_repetition_ids`, e.g., to preserve current behavior, use\n",
      "\n",
      "  CircuitOperations(..., use_repetition_ids=True)\n",
      "  warnings.warn(msg, FutureWarning)\n"
     ]
    }
   ],
   "execution_count": 19
  },
  {
   "metadata": {},
   "cell_type": "markdown",
   "source": "This geometry has some move conflicts, which resulst in a two extra move moments. Add image from Pedro",
   "id": "2d0324b40a8dc0ab"
  },
  {
   "metadata": {
    "ExecuteTime": {
     "end_time": "2025-08-08T12:37:49.177847Z",
     "start_time": "2025-08-08T12:37:49.081974Z"
    }
   },
   "cell_type": "code",
   "source": [
    "model = GeminiOneZoneNoiseModelConflictGraphMoves()\n",
    "circuit2_noisy = transform_circuit(geometry2, model=model)\n",
    "print(f'Geometry two required {len(circuit2_noisy)} total moments')"
   ],
   "id": "288cbffe86aa2500",
   "outputs": [
    {
     "name": "stdout",
     "output_type": "stream",
     "text": [
      "Geometry two required 22 total moments\n"
     ]
    },
    {
     "name": "stderr",
     "output_type": "stream",
     "text": [
      "/Users/tylercochran/Documents/QuEra_repos/bloqade/.venv/lib/python3.10/site-packages/cirq/circuits/circuit_operation.py:173: FutureWarning: In cirq 1.6 the default value of `use_repetition_ids` will change to\n",
      "`use_repetition_ids=False`. To make this warning go away, please pass\n",
      "explicit `use_repetition_ids`, e.g., to preserve current behavior, use\n",
      "\n",
      "  CircuitOperations(..., use_repetition_ids=True)\n",
      "  warnings.warn(msg, FutureWarning)\n",
      "/Users/tylercochran/Documents/QuEra_repos/bloqade/.venv/lib/python3.10/site-packages/cirq/circuits/circuit_operation.py:173: FutureWarning: In cirq 1.6 the default value of `use_repetition_ids` will change to\n",
      "`use_repetition_ids=False`. To make this warning go away, please pass\n",
      "explicit `use_repetition_ids`, e.g., to preserve current behavior, use\n",
      "\n",
      "  CircuitOperations(..., use_repetition_ids=True)\n",
      "  warnings.warn(msg, FutureWarning)\n",
      "/Users/tylercochran/Documents/QuEra_repos/bloqade/.venv/lib/python3.10/site-packages/cirq/circuits/circuit_operation.py:173: FutureWarning: In cirq 1.6 the default value of `use_repetition_ids` will change to\n",
      "`use_repetition_ids=False`. To make this warning go away, please pass\n",
      "explicit `use_repetition_ids`, e.g., to preserve current behavior, use\n",
      "\n",
      "  CircuitOperations(..., use_repetition_ids=True)\n",
      "  warnings.warn(msg, FutureWarning)\n",
      "/Users/tylercochran/Documents/QuEra_repos/bloqade/.venv/lib/python3.10/site-packages/cirq/circuits/circuit_operation.py:173: FutureWarning: In cirq 1.6 the default value of `use_repetition_ids` will change to\n",
      "`use_repetition_ids=False`. To make this warning go away, please pass\n",
      "explicit `use_repetition_ids`, e.g., to preserve current behavior, use\n",
      "\n",
      "  CircuitOperations(..., use_repetition_ids=True)\n",
      "  warnings.warn(msg, FutureWarning)\n",
      "/Users/tylercochran/Documents/QuEra_repos/bloqade/.venv/lib/python3.10/site-packages/cirq/circuits/circuit_operation.py:173: FutureWarning: In cirq 1.6 the default value of `use_repetition_ids` will change to\n",
      "`use_repetition_ids=False`. To make this warning go away, please pass\n",
      "explicit `use_repetition_ids`, e.g., to preserve current behavior, use\n",
      "\n",
      "  CircuitOperations(..., use_repetition_ids=True)\n",
      "  warnings.warn(msg, FutureWarning)\n",
      "/Users/tylercochran/Documents/QuEra_repos/bloqade/.venv/lib/python3.10/site-packages/cirq/circuits/circuit_operation.py:173: FutureWarning: In cirq 1.6 the default value of `use_repetition_ids` will change to\n",
      "`use_repetition_ids=False`. To make this warning go away, please pass\n",
      "explicit `use_repetition_ids`, e.g., to preserve current behavior, use\n",
      "\n",
      "  CircuitOperations(..., use_repetition_ids=True)\n",
      "  warnings.warn(msg, FutureWarning)\n",
      "/Users/tylercochran/Documents/QuEra_repos/bloqade/.venv/lib/python3.10/site-packages/cirq/circuits/circuit_operation.py:173: FutureWarning: In cirq 1.6 the default value of `use_repetition_ids` will change to\n",
      "`use_repetition_ids=False`. To make this warning go away, please pass\n",
      "explicit `use_repetition_ids`, e.g., to preserve current behavior, use\n",
      "\n",
      "  CircuitOperations(..., use_repetition_ids=True)\n",
      "  warnings.warn(msg, FutureWarning)\n",
      "/Users/tylercochran/Documents/QuEra_repos/bloqade/.venv/lib/python3.10/site-packages/cirq/circuits/circuit_operation.py:173: FutureWarning: In cirq 1.6 the default value of `use_repetition_ids` will change to\n",
      "`use_repetition_ids=False`. To make this warning go away, please pass\n",
      "explicit `use_repetition_ids`, e.g., to preserve current behavior, use\n",
      "\n",
      "  CircuitOperations(..., use_repetition_ids=True)\n",
      "  warnings.warn(msg, FutureWarning)\n",
      "/Users/tylercochran/Documents/QuEra_repos/bloqade/.venv/lib/python3.10/site-packages/cirq/circuits/circuit_operation.py:173: FutureWarning: In cirq 1.6 the default value of `use_repetition_ids` will change to\n",
      "`use_repetition_ids=False`. To make this warning go away, please pass\n",
      "explicit `use_repetition_ids`, e.g., to preserve current behavior, use\n",
      "\n",
      "  CircuitOperations(..., use_repetition_ids=True)\n",
      "  warnings.warn(msg, FutureWarning)\n",
      "/Users/tylercochran/Documents/QuEra_repos/bloqade/.venv/lib/python3.10/site-packages/cirq/circuits/circuit_operation.py:173: FutureWarning: In cirq 1.6 the default value of `use_repetition_ids` will change to\n",
      "`use_repetition_ids=False`. To make this warning go away, please pass\n",
      "explicit `use_repetition_ids`, e.g., to preserve current behavior, use\n",
      "\n",
      "  CircuitOperations(..., use_repetition_ids=True)\n",
      "  warnings.warn(msg, FutureWarning)\n",
      "/Users/tylercochran/Documents/QuEra_repos/bloqade/.venv/lib/python3.10/site-packages/cirq/circuits/circuit_operation.py:173: FutureWarning: In cirq 1.6 the default value of `use_repetition_ids` will change to\n",
      "`use_repetition_ids=False`. To make this warning go away, please pass\n",
      "explicit `use_repetition_ids`, e.g., to preserve current behavior, use\n",
      "\n",
      "  CircuitOperations(..., use_repetition_ids=True)\n",
      "  warnings.warn(msg, FutureWarning)\n",
      "/Users/tylercochran/Documents/QuEra_repos/bloqade/.venv/lib/python3.10/site-packages/cirq/circuits/circuit_operation.py:173: FutureWarning: In cirq 1.6 the default value of `use_repetition_ids` will change to\n",
      "`use_repetition_ids=False`. To make this warning go away, please pass\n",
      "explicit `use_repetition_ids`, e.g., to preserve current behavior, use\n",
      "\n",
      "  CircuitOperations(..., use_repetition_ids=True)\n",
      "  warnings.warn(msg, FutureWarning)\n",
      "/Users/tylercochran/Documents/QuEra_repos/bloqade/.venv/lib/python3.10/site-packages/cirq/circuits/circuit_operation.py:173: FutureWarning: In cirq 1.6 the default value of `use_repetition_ids` will change to\n",
      "`use_repetition_ids=False`. To make this warning go away, please pass\n",
      "explicit `use_repetition_ids`, e.g., to preserve current behavior, use\n",
      "\n",
      "  CircuitOperations(..., use_repetition_ids=True)\n",
      "  warnings.warn(msg, FutureWarning)\n",
      "/Users/tylercochran/Documents/QuEra_repos/bloqade/.venv/lib/python3.10/site-packages/cirq/circuits/circuit_operation.py:173: FutureWarning: In cirq 1.6 the default value of `use_repetition_ids` will change to\n",
      "`use_repetition_ids=False`. To make this warning go away, please pass\n",
      "explicit `use_repetition_ids`, e.g., to preserve current behavior, use\n",
      "\n",
      "  CircuitOperations(..., use_repetition_ids=True)\n",
      "  warnings.warn(msg, FutureWarning)\n",
      "/Users/tylercochran/Documents/QuEra_repos/bloqade/.venv/lib/python3.10/site-packages/cirq/circuits/circuit_operation.py:173: FutureWarning: In cirq 1.6 the default value of `use_repetition_ids` will change to\n",
      "`use_repetition_ids=False`. To make this warning go away, please pass\n",
      "explicit `use_repetition_ids`, e.g., to preserve current behavior, use\n",
      "\n",
      "  CircuitOperations(..., use_repetition_ids=True)\n",
      "  warnings.warn(msg, FutureWarning)\n",
      "/Users/tylercochran/Documents/QuEra_repos/bloqade/.venv/lib/python3.10/site-packages/cirq/circuits/circuit_operation.py:173: FutureWarning: In cirq 1.6 the default value of `use_repetition_ids` will change to\n",
      "`use_repetition_ids=False`. To make this warning go away, please pass\n",
      "explicit `use_repetition_ids`, e.g., to preserve current behavior, use\n",
      "\n",
      "  CircuitOperations(..., use_repetition_ids=True)\n",
      "  warnings.warn(msg, FutureWarning)\n",
      "/Users/tylercochran/Documents/QuEra_repos/bloqade/.venv/lib/python3.10/site-packages/cirq/circuits/circuit_operation.py:173: FutureWarning: In cirq 1.6 the default value of `use_repetition_ids` will change to\n",
      "`use_repetition_ids=False`. To make this warning go away, please pass\n",
      "explicit `use_repetition_ids`, e.g., to preserve current behavior, use\n",
      "\n",
      "  CircuitOperations(..., use_repetition_ids=True)\n",
      "  warnings.warn(msg, FutureWarning)\n",
      "/Users/tylercochran/Documents/QuEra_repos/bloqade/.venv/lib/python3.10/site-packages/cirq/circuits/circuit_operation.py:173: FutureWarning: In cirq 1.6 the default value of `use_repetition_ids` will change to\n",
      "`use_repetition_ids=False`. To make this warning go away, please pass\n",
      "explicit `use_repetition_ids`, e.g., to preserve current behavior, use\n",
      "\n",
      "  CircuitOperations(..., use_repetition_ids=True)\n",
      "  warnings.warn(msg, FutureWarning)\n",
      "/Users/tylercochran/Documents/QuEra_repos/bloqade/.venv/lib/python3.10/site-packages/cirq/circuits/circuit_operation.py:173: FutureWarning: In cirq 1.6 the default value of `use_repetition_ids` will change to\n",
      "`use_repetition_ids=False`. To make this warning go away, please pass\n",
      "explicit `use_repetition_ids`, e.g., to preserve current behavior, use\n",
      "\n",
      "  CircuitOperations(..., use_repetition_ids=True)\n",
      "  warnings.warn(msg, FutureWarning)\n",
      "/Users/tylercochran/Documents/QuEra_repos/bloqade/.venv/lib/python3.10/site-packages/cirq/circuits/circuit_operation.py:173: FutureWarning: In cirq 1.6 the default value of `use_repetition_ids` will change to\n",
      "`use_repetition_ids=False`. To make this warning go away, please pass\n",
      "explicit `use_repetition_ids`, e.g., to preserve current behavior, use\n",
      "\n",
      "  CircuitOperations(..., use_repetition_ids=True)\n",
      "  warnings.warn(msg, FutureWarning)\n",
      "/Users/tylercochran/Documents/QuEra_repos/bloqade/.venv/lib/python3.10/site-packages/cirq/circuits/circuit_operation.py:173: FutureWarning: In cirq 1.6 the default value of `use_repetition_ids` will change to\n",
      "`use_repetition_ids=False`. To make this warning go away, please pass\n",
      "explicit `use_repetition_ids`, e.g., to preserve current behavior, use\n",
      "\n",
      "  CircuitOperations(..., use_repetition_ids=True)\n",
      "  warnings.warn(msg, FutureWarning)\n",
      "/Users/tylercochran/Documents/QuEra_repos/bloqade/.venv/lib/python3.10/site-packages/cirq/circuits/circuit_operation.py:173: FutureWarning: In cirq 1.6 the default value of `use_repetition_ids` will change to\n",
      "`use_repetition_ids=False`. To make this warning go away, please pass\n",
      "explicit `use_repetition_ids`, e.g., to preserve current behavior, use\n",
      "\n",
      "  CircuitOperations(..., use_repetition_ids=True)\n",
      "  warnings.warn(msg, FutureWarning)\n",
      "/Users/tylercochran/Documents/QuEra_repos/bloqade/.venv/lib/python3.10/site-packages/cirq/circuits/circuit_operation.py:173: FutureWarning: In cirq 1.6 the default value of `use_repetition_ids` will change to\n",
      "`use_repetition_ids=False`. To make this warning go away, please pass\n",
      "explicit `use_repetition_ids`, e.g., to preserve current behavior, use\n",
      "\n",
      "  CircuitOperations(..., use_repetition_ids=True)\n",
      "  warnings.warn(msg, FutureWarning)\n",
      "/Users/tylercochran/Documents/QuEra_repos/bloqade/.venv/lib/python3.10/site-packages/cirq/circuits/circuit_operation.py:173: FutureWarning: In cirq 1.6 the default value of `use_repetition_ids` will change to\n",
      "`use_repetition_ids=False`. To make this warning go away, please pass\n",
      "explicit `use_repetition_ids`, e.g., to preserve current behavior, use\n",
      "\n",
      "  CircuitOperations(..., use_repetition_ids=True)\n",
      "  warnings.warn(msg, FutureWarning)\n",
      "/Users/tylercochran/Documents/QuEra_repos/bloqade/.venv/lib/python3.10/site-packages/cirq/circuits/circuit_operation.py:173: FutureWarning: In cirq 1.6 the default value of `use_repetition_ids` will change to\n",
      "`use_repetition_ids=False`. To make this warning go away, please pass\n",
      "explicit `use_repetition_ids`, e.g., to preserve current behavior, use\n",
      "\n",
      "  CircuitOperations(..., use_repetition_ids=True)\n",
      "  warnings.warn(msg, FutureWarning)\n",
      "/Users/tylercochran/Documents/QuEra_repos/bloqade/.venv/lib/python3.10/site-packages/cirq/circuits/circuit_operation.py:173: FutureWarning: In cirq 1.6 the default value of `use_repetition_ids` will change to\n",
      "`use_repetition_ids=False`. To make this warning go away, please pass\n",
      "explicit `use_repetition_ids`, e.g., to preserve current behavior, use\n",
      "\n",
      "  CircuitOperations(..., use_repetition_ids=True)\n",
      "  warnings.warn(msg, FutureWarning)\n",
      "/Users/tylercochran/Documents/QuEra_repos/bloqade/.venv/lib/python3.10/site-packages/cirq/circuits/circuit_operation.py:173: FutureWarning: In cirq 1.6 the default value of `use_repetition_ids` will change to\n",
      "`use_repetition_ids=False`. To make this warning go away, please pass\n",
      "explicit `use_repetition_ids`, e.g., to preserve current behavior, use\n",
      "\n",
      "  CircuitOperations(..., use_repetition_ids=True)\n",
      "  warnings.warn(msg, FutureWarning)\n",
      "/Users/tylercochran/Documents/QuEra_repos/bloqade/.venv/lib/python3.10/site-packages/cirq/circuits/circuit_operation.py:173: FutureWarning: In cirq 1.6 the default value of `use_repetition_ids` will change to\n",
      "`use_repetition_ids=False`. To make this warning go away, please pass\n",
      "explicit `use_repetition_ids`, e.g., to preserve current behavior, use\n",
      "\n",
      "  CircuitOperations(..., use_repetition_ids=True)\n",
      "  warnings.warn(msg, FutureWarning)\n",
      "/Users/tylercochran/Documents/QuEra_repos/bloqade/.venv/lib/python3.10/site-packages/cirq/circuits/circuit_operation.py:173: FutureWarning: In cirq 1.6 the default value of `use_repetition_ids` will change to\n",
      "`use_repetition_ids=False`. To make this warning go away, please pass\n",
      "explicit `use_repetition_ids`, e.g., to preserve current behavior, use\n",
      "\n",
      "  CircuitOperations(..., use_repetition_ids=True)\n",
      "  warnings.warn(msg, FutureWarning)\n",
      "/Users/tylercochran/Documents/QuEra_repos/bloqade/.venv/lib/python3.10/site-packages/cirq/circuits/circuit_operation.py:173: FutureWarning: In cirq 1.6 the default value of `use_repetition_ids` will change to\n",
      "`use_repetition_ids=False`. To make this warning go away, please pass\n",
      "explicit `use_repetition_ids`, e.g., to preserve current behavior, use\n",
      "\n",
      "  CircuitOperations(..., use_repetition_ids=True)\n",
      "  warnings.warn(msg, FutureWarning)\n",
      "/Users/tylercochran/Documents/QuEra_repos/bloqade/.venv/lib/python3.10/site-packages/cirq/circuits/circuit_operation.py:173: FutureWarning: In cirq 1.6 the default value of `use_repetition_ids` will change to\n",
      "`use_repetition_ids=False`. To make this warning go away, please pass\n",
      "explicit `use_repetition_ids`, e.g., to preserve current behavior, use\n",
      "\n",
      "  CircuitOperations(..., use_repetition_ids=True)\n",
      "  warnings.warn(msg, FutureWarning)\n",
      "/Users/tylercochran/Documents/QuEra_repos/bloqade/.venv/lib/python3.10/site-packages/cirq/circuits/circuit_operation.py:173: FutureWarning: In cirq 1.6 the default value of `use_repetition_ids` will change to\n",
      "`use_repetition_ids=False`. To make this warning go away, please pass\n",
      "explicit `use_repetition_ids`, e.g., to preserve current behavior, use\n",
      "\n",
      "  CircuitOperations(..., use_repetition_ids=True)\n",
      "  warnings.warn(msg, FutureWarning)\n",
      "/Users/tylercochran/Documents/QuEra_repos/bloqade/.venv/lib/python3.10/site-packages/cirq/circuits/circuit_operation.py:173: FutureWarning: In cirq 1.6 the default value of `use_repetition_ids` will change to\n",
      "`use_repetition_ids=False`. To make this warning go away, please pass\n",
      "explicit `use_repetition_ids`, e.g., to preserve current behavior, use\n",
      "\n",
      "  CircuitOperations(..., use_repetition_ids=True)\n",
      "  warnings.warn(msg, FutureWarning)\n",
      "/Users/tylercochran/Documents/QuEra_repos/bloqade/.venv/lib/python3.10/site-packages/cirq/circuits/circuit_operation.py:173: FutureWarning: In cirq 1.6 the default value of `use_repetition_ids` will change to\n",
      "`use_repetition_ids=False`. To make this warning go away, please pass\n",
      "explicit `use_repetition_ids`, e.g., to preserve current behavior, use\n",
      "\n",
      "  CircuitOperations(..., use_repetition_ids=True)\n",
      "  warnings.warn(msg, FutureWarning)\n",
      "/Users/tylercochran/Documents/QuEra_repos/bloqade/.venv/lib/python3.10/site-packages/cirq/circuits/circuit_operation.py:173: FutureWarning: In cirq 1.6 the default value of `use_repetition_ids` will change to\n",
      "`use_repetition_ids=False`. To make this warning go away, please pass\n",
      "explicit `use_repetition_ids`, e.g., to preserve current behavior, use\n",
      "\n",
      "  CircuitOperations(..., use_repetition_ids=True)\n",
      "  warnings.warn(msg, FutureWarning)\n",
      "/Users/tylercochran/Documents/QuEra_repos/bloqade/.venv/lib/python3.10/site-packages/cirq/circuits/circuit_operation.py:173: FutureWarning: In cirq 1.6 the default value of `use_repetition_ids` will change to\n",
      "`use_repetition_ids=False`. To make this warning go away, please pass\n",
      "explicit `use_repetition_ids`, e.g., to preserve current behavior, use\n",
      "\n",
      "  CircuitOperations(..., use_repetition_ids=True)\n",
      "  warnings.warn(msg, FutureWarning)\n",
      "/Users/tylercochran/Documents/QuEra_repos/bloqade/.venv/lib/python3.10/site-packages/cirq/circuits/circuit_operation.py:173: FutureWarning: In cirq 1.6 the default value of `use_repetition_ids` will change to\n",
      "`use_repetition_ids=False`. To make this warning go away, please pass\n",
      "explicit `use_repetition_ids`, e.g., to preserve current behavior, use\n",
      "\n",
      "  CircuitOperations(..., use_repetition_ids=True)\n",
      "  warnings.warn(msg, FutureWarning)\n",
      "/Users/tylercochran/Documents/QuEra_repos/bloqade/.venv/lib/python3.10/site-packages/cirq/circuits/circuit_operation.py:173: FutureWarning: In cirq 1.6 the default value of `use_repetition_ids` will change to\n",
      "`use_repetition_ids=False`. To make this warning go away, please pass\n",
      "explicit `use_repetition_ids`, e.g., to preserve current behavior, use\n",
      "\n",
      "  CircuitOperations(..., use_repetition_ids=True)\n",
      "  warnings.warn(msg, FutureWarning)\n",
      "/Users/tylercochran/Documents/QuEra_repos/bloqade/.venv/lib/python3.10/site-packages/cirq/circuits/circuit_operation.py:173: FutureWarning: In cirq 1.6 the default value of `use_repetition_ids` will change to\n",
      "`use_repetition_ids=False`. To make this warning go away, please pass\n",
      "explicit `use_repetition_ids`, e.g., to preserve current behavior, use\n",
      "\n",
      "  CircuitOperations(..., use_repetition_ids=True)\n",
      "  warnings.warn(msg, FutureWarning)\n",
      "/Users/tylercochran/Documents/QuEra_repos/bloqade/.venv/lib/python3.10/site-packages/cirq/circuits/circuit_operation.py:173: FutureWarning: In cirq 1.6 the default value of `use_repetition_ids` will change to\n",
      "`use_repetition_ids=False`. To make this warning go away, please pass\n",
      "explicit `use_repetition_ids`, e.g., to preserve current behavior, use\n",
      "\n",
      "  CircuitOperations(..., use_repetition_ids=True)\n",
      "  warnings.warn(msg, FutureWarning)\n",
      "/Users/tylercochran/Documents/QuEra_repos/bloqade/.venv/lib/python3.10/site-packages/cirq/circuits/circuit_operation.py:173: FutureWarning: In cirq 1.6 the default value of `use_repetition_ids` will change to\n",
      "`use_repetition_ids=False`. To make this warning go away, please pass\n",
      "explicit `use_repetition_ids`, e.g., to preserve current behavior, use\n",
      "\n",
      "  CircuitOperations(..., use_repetition_ids=True)\n",
      "  warnings.warn(msg, FutureWarning)\n",
      "/Users/tylercochran/Documents/QuEra_repos/bloqade/.venv/lib/python3.10/site-packages/cirq/circuits/circuit_operation.py:173: FutureWarning: In cirq 1.6 the default value of `use_repetition_ids` will change to\n",
      "`use_repetition_ids=False`. To make this warning go away, please pass\n",
      "explicit `use_repetition_ids`, e.g., to preserve current behavior, use\n",
      "\n",
      "  CircuitOperations(..., use_repetition_ids=True)\n",
      "  warnings.warn(msg, FutureWarning)\n",
      "/Users/tylercochran/Documents/QuEra_repos/bloqade/.venv/lib/python3.10/site-packages/cirq/circuits/circuit_operation.py:173: FutureWarning: In cirq 1.6 the default value of `use_repetition_ids` will change to\n",
      "`use_repetition_ids=False`. To make this warning go away, please pass\n",
      "explicit `use_repetition_ids`, e.g., to preserve current behavior, use\n",
      "\n",
      "  CircuitOperations(..., use_repetition_ids=True)\n",
      "  warnings.warn(msg, FutureWarning)\n",
      "/Users/tylercochran/Documents/QuEra_repos/bloqade/.venv/lib/python3.10/site-packages/cirq/circuits/circuit_operation.py:173: FutureWarning: In cirq 1.6 the default value of `use_repetition_ids` will change to\n",
      "`use_repetition_ids=False`. To make this warning go away, please pass\n",
      "explicit `use_repetition_ids`, e.g., to preserve current behavior, use\n",
      "\n",
      "  CircuitOperations(..., use_repetition_ids=True)\n",
      "  warnings.warn(msg, FutureWarning)\n",
      "/Users/tylercochran/Documents/QuEra_repos/bloqade/.venv/lib/python3.10/site-packages/cirq/circuits/circuit_operation.py:173: FutureWarning: In cirq 1.6 the default value of `use_repetition_ids` will change to\n",
      "`use_repetition_ids=False`. To make this warning go away, please pass\n",
      "explicit `use_repetition_ids`, e.g., to preserve current behavior, use\n",
      "\n",
      "  CircuitOperations(..., use_repetition_ids=True)\n",
      "  warnings.warn(msg, FutureWarning)\n",
      "/Users/tylercochran/Documents/QuEra_repos/bloqade/.venv/lib/python3.10/site-packages/cirq/circuits/circuit_operation.py:173: FutureWarning: In cirq 1.6 the default value of `use_repetition_ids` will change to\n",
      "`use_repetition_ids=False`. To make this warning go away, please pass\n",
      "explicit `use_repetition_ids`, e.g., to preserve current behavior, use\n",
      "\n",
      "  CircuitOperations(..., use_repetition_ids=True)\n",
      "  warnings.warn(msg, FutureWarning)\n",
      "/Users/tylercochran/Documents/QuEra_repos/bloqade/.venv/lib/python3.10/site-packages/cirq/circuits/circuit_operation.py:173: FutureWarning: In cirq 1.6 the default value of `use_repetition_ids` will change to\n",
      "`use_repetition_ids=False`. To make this warning go away, please pass\n",
      "explicit `use_repetition_ids`, e.g., to preserve current behavior, use\n",
      "\n",
      "  CircuitOperations(..., use_repetition_ids=True)\n",
      "  warnings.warn(msg, FutureWarning)\n",
      "/Users/tylercochran/Documents/QuEra_repos/bloqade/.venv/lib/python3.10/site-packages/cirq/circuits/circuit_operation.py:173: FutureWarning: In cirq 1.6 the default value of `use_repetition_ids` will change to\n",
      "`use_repetition_ids=False`. To make this warning go away, please pass\n",
      "explicit `use_repetition_ids`, e.g., to preserve current behavior, use\n",
      "\n",
      "  CircuitOperations(..., use_repetition_ids=True)\n",
      "  warnings.warn(msg, FutureWarning)\n",
      "/Users/tylercochran/Documents/QuEra_repos/bloqade/.venv/lib/python3.10/site-packages/cirq/circuits/circuit_operation.py:173: FutureWarning: In cirq 1.6 the default value of `use_repetition_ids` will change to\n",
      "`use_repetition_ids=False`. To make this warning go away, please pass\n",
      "explicit `use_repetition_ids`, e.g., to preserve current behavior, use\n",
      "\n",
      "  CircuitOperations(..., use_repetition_ids=True)\n",
      "  warnings.warn(msg, FutureWarning)\n",
      "/Users/tylercochran/Documents/QuEra_repos/bloqade/.venv/lib/python3.10/site-packages/cirq/circuits/circuit_operation.py:173: FutureWarning: In cirq 1.6 the default value of `use_repetition_ids` will change to\n",
      "`use_repetition_ids=False`. To make this warning go away, please pass\n",
      "explicit `use_repetition_ids`, e.g., to preserve current behavior, use\n",
      "\n",
      "  CircuitOperations(..., use_repetition_ids=True)\n",
      "  warnings.warn(msg, FutureWarning)\n",
      "/Users/tylercochran/Documents/QuEra_repos/bloqade/.venv/lib/python3.10/site-packages/cirq/circuits/circuit_operation.py:173: FutureWarning: In cirq 1.6 the default value of `use_repetition_ids` will change to\n",
      "`use_repetition_ids=False`. To make this warning go away, please pass\n",
      "explicit `use_repetition_ids`, e.g., to preserve current behavior, use\n",
      "\n",
      "  CircuitOperations(..., use_repetition_ids=True)\n",
      "  warnings.warn(msg, FutureWarning)\n",
      "/Users/tylercochran/Documents/QuEra_repos/bloqade/.venv/lib/python3.10/site-packages/cirq/circuits/circuit_operation.py:173: FutureWarning: In cirq 1.6 the default value of `use_repetition_ids` will change to\n",
      "`use_repetition_ids=False`. To make this warning go away, please pass\n",
      "explicit `use_repetition_ids`, e.g., to preserve current behavior, use\n",
      "\n",
      "  CircuitOperations(..., use_repetition_ids=True)\n",
      "  warnings.warn(msg, FutureWarning)\n",
      "/Users/tylercochran/Documents/QuEra_repos/bloqade/.venv/lib/python3.10/site-packages/cirq/circuits/circuit_operation.py:173: FutureWarning: In cirq 1.6 the default value of `use_repetition_ids` will change to\n",
      "`use_repetition_ids=False`. To make this warning go away, please pass\n",
      "explicit `use_repetition_ids`, e.g., to preserve current behavior, use\n",
      "\n",
      "  CircuitOperations(..., use_repetition_ids=True)\n",
      "  warnings.warn(msg, FutureWarning)\n",
      "/Users/tylercochran/Documents/QuEra_repos/bloqade/.venv/lib/python3.10/site-packages/cirq/circuits/circuit_operation.py:173: FutureWarning: In cirq 1.6 the default value of `use_repetition_ids` will change to\n",
      "`use_repetition_ids=False`. To make this warning go away, please pass\n",
      "explicit `use_repetition_ids`, e.g., to preserve current behavior, use\n",
      "\n",
      "  CircuitOperations(..., use_repetition_ids=True)\n",
      "  warnings.warn(msg, FutureWarning)\n",
      "/Users/tylercochran/Documents/QuEra_repos/bloqade/.venv/lib/python3.10/site-packages/cirq/circuits/circuit_operation.py:173: FutureWarning: In cirq 1.6 the default value of `use_repetition_ids` will change to\n",
      "`use_repetition_ids=False`. To make this warning go away, please pass\n",
      "explicit `use_repetition_ids`, e.g., to preserve current behavior, use\n",
      "\n",
      "  CircuitOperations(..., use_repetition_ids=True)\n",
      "  warnings.warn(msg, FutureWarning)\n",
      "/Users/tylercochran/Documents/QuEra_repos/bloqade/.venv/lib/python3.10/site-packages/cirq/circuits/circuit_operation.py:173: FutureWarning: In cirq 1.6 the default value of `use_repetition_ids` will change to\n",
      "`use_repetition_ids=False`. To make this warning go away, please pass\n",
      "explicit `use_repetition_ids`, e.g., to preserve current behavior, use\n",
      "\n",
      "  CircuitOperations(..., use_repetition_ids=True)\n",
      "  warnings.warn(msg, FutureWarning)\n",
      "/Users/tylercochran/Documents/QuEra_repos/bloqade/.venv/lib/python3.10/site-packages/cirq/circuits/circuit_operation.py:173: FutureWarning: In cirq 1.6 the default value of `use_repetition_ids` will change to\n",
      "`use_repetition_ids=False`. To make this warning go away, please pass\n",
      "explicit `use_repetition_ids`, e.g., to preserve current behavior, use\n",
      "\n",
      "  CircuitOperations(..., use_repetition_ids=True)\n",
      "  warnings.warn(msg, FutureWarning)\n",
      "/Users/tylercochran/Documents/QuEra_repos/bloqade/.venv/lib/python3.10/site-packages/cirq/circuits/circuit_operation.py:173: FutureWarning: In cirq 1.6 the default value of `use_repetition_ids` will change to\n",
      "`use_repetition_ids=False`. To make this warning go away, please pass\n",
      "explicit `use_repetition_ids`, e.g., to preserve current behavior, use\n",
      "\n",
      "  CircuitOperations(..., use_repetition_ids=True)\n",
      "  warnings.warn(msg, FutureWarning)\n",
      "/Users/tylercochran/Documents/QuEra_repos/bloqade/.venv/lib/python3.10/site-packages/cirq/circuits/circuit_operation.py:173: FutureWarning: In cirq 1.6 the default value of `use_repetition_ids` will change to\n",
      "`use_repetition_ids=False`. To make this warning go away, please pass\n",
      "explicit `use_repetition_ids`, e.g., to preserve current behavior, use\n",
      "\n",
      "  CircuitOperations(..., use_repetition_ids=True)\n",
      "  warnings.warn(msg, FutureWarning)\n",
      "/Users/tylercochran/Documents/QuEra_repos/bloqade/.venv/lib/python3.10/site-packages/cirq/circuits/circuit_operation.py:173: FutureWarning: In cirq 1.6 the default value of `use_repetition_ids` will change to\n",
      "`use_repetition_ids=False`. To make this warning go away, please pass\n",
      "explicit `use_repetition_ids`, e.g., to preserve current behavior, use\n",
      "\n",
      "  CircuitOperations(..., use_repetition_ids=True)\n",
      "  warnings.warn(msg, FutureWarning)\n",
      "/Users/tylercochran/Documents/QuEra_repos/bloqade/.venv/lib/python3.10/site-packages/cirq/circuits/circuit_operation.py:173: FutureWarning: In cirq 1.6 the default value of `use_repetition_ids` will change to\n",
      "`use_repetition_ids=False`. To make this warning go away, please pass\n",
      "explicit `use_repetition_ids`, e.g., to preserve current behavior, use\n",
      "\n",
      "  CircuitOperations(..., use_repetition_ids=True)\n",
      "  warnings.warn(msg, FutureWarning)\n",
      "/Users/tylercochran/Documents/QuEra_repos/bloqade/.venv/lib/python3.10/site-packages/cirq/circuits/circuit_operation.py:173: FutureWarning: In cirq 1.6 the default value of `use_repetition_ids` will change to\n",
      "`use_repetition_ids=False`. To make this warning go away, please pass\n",
      "explicit `use_repetition_ids`, e.g., to preserve current behavior, use\n",
      "\n",
      "  CircuitOperations(..., use_repetition_ids=True)\n",
      "  warnings.warn(msg, FutureWarning)\n",
      "/Users/tylercochran/Documents/QuEra_repos/bloqade/.venv/lib/python3.10/site-packages/cirq/circuits/circuit_operation.py:173: FutureWarning: In cirq 1.6 the default value of `use_repetition_ids` will change to\n",
      "`use_repetition_ids=False`. To make this warning go away, please pass\n",
      "explicit `use_repetition_ids`, e.g., to preserve current behavior, use\n",
      "\n",
      "  CircuitOperations(..., use_repetition_ids=True)\n",
      "  warnings.warn(msg, FutureWarning)\n",
      "/Users/tylercochran/Documents/QuEra_repos/bloqade/.venv/lib/python3.10/site-packages/cirq/circuits/circuit_operation.py:173: FutureWarning: In cirq 1.6 the default value of `use_repetition_ids` will change to\n",
      "`use_repetition_ids=False`. To make this warning go away, please pass\n",
      "explicit `use_repetition_ids`, e.g., to preserve current behavior, use\n",
      "\n",
      "  CircuitOperations(..., use_repetition_ids=True)\n",
      "  warnings.warn(msg, FutureWarning)\n",
      "/Users/tylercochran/Documents/QuEra_repos/bloqade/.venv/lib/python3.10/site-packages/cirq/circuits/circuit_operation.py:173: FutureWarning: In cirq 1.6 the default value of `use_repetition_ids` will change to\n",
      "`use_repetition_ids=False`. To make this warning go away, please pass\n",
      "explicit `use_repetition_ids`, e.g., to preserve current behavior, use\n",
      "\n",
      "  CircuitOperations(..., use_repetition_ids=True)\n",
      "  warnings.warn(msg, FutureWarning)\n",
      "/Users/tylercochran/Documents/QuEra_repos/bloqade/.venv/lib/python3.10/site-packages/cirq/circuits/circuit_operation.py:173: FutureWarning: In cirq 1.6 the default value of `use_repetition_ids` will change to\n",
      "`use_repetition_ids=False`. To make this warning go away, please pass\n",
      "explicit `use_repetition_ids`, e.g., to preserve current behavior, use\n",
      "\n",
      "  CircuitOperations(..., use_repetition_ids=True)\n",
      "  warnings.warn(msg, FutureWarning)\n",
      "/Users/tylercochran/Documents/QuEra_repos/bloqade/.venv/lib/python3.10/site-packages/cirq/circuits/circuit_operation.py:173: FutureWarning: In cirq 1.6 the default value of `use_repetition_ids` will change to\n",
      "`use_repetition_ids=False`. To make this warning go away, please pass\n",
      "explicit `use_repetition_ids`, e.g., to preserve current behavior, use\n",
      "\n",
      "  CircuitOperations(..., use_repetition_ids=True)\n",
      "  warnings.warn(msg, FutureWarning)\n",
      "/Users/tylercochran/Documents/QuEra_repos/bloqade/.venv/lib/python3.10/site-packages/cirq/circuits/circuit_operation.py:173: FutureWarning: In cirq 1.6 the default value of `use_repetition_ids` will change to\n",
      "`use_repetition_ids=False`. To make this warning go away, please pass\n",
      "explicit `use_repetition_ids`, e.g., to preserve current behavior, use\n",
      "\n",
      "  CircuitOperations(..., use_repetition_ids=True)\n",
      "  warnings.warn(msg, FutureWarning)\n",
      "/Users/tylercochran/Documents/QuEra_repos/bloqade/.venv/lib/python3.10/site-packages/cirq/circuits/circuit_operation.py:173: FutureWarning: In cirq 1.6 the default value of `use_repetition_ids` will change to\n",
      "`use_repetition_ids=False`. To make this warning go away, please pass\n",
      "explicit `use_repetition_ids`, e.g., to preserve current behavior, use\n",
      "\n",
      "  CircuitOperations(..., use_repetition_ids=True)\n",
      "  warnings.warn(msg, FutureWarning)\n",
      "/Users/tylercochran/Documents/QuEra_repos/bloqade/.venv/lib/python3.10/site-packages/cirq/circuits/circuit_operation.py:173: FutureWarning: In cirq 1.6 the default value of `use_repetition_ids` will change to\n",
      "`use_repetition_ids=False`. To make this warning go away, please pass\n",
      "explicit `use_repetition_ids`, e.g., to preserve current behavior, use\n",
      "\n",
      "  CircuitOperations(..., use_repetition_ids=True)\n",
      "  warnings.warn(msg, FutureWarning)\n",
      "/Users/tylercochran/Documents/QuEra_repos/bloqade/.venv/lib/python3.10/site-packages/cirq/circuits/circuit_operation.py:173: FutureWarning: In cirq 1.6 the default value of `use_repetition_ids` will change to\n",
      "`use_repetition_ids=False`. To make this warning go away, please pass\n",
      "explicit `use_repetition_ids`, e.g., to preserve current behavior, use\n",
      "\n",
      "  CircuitOperations(..., use_repetition_ids=True)\n",
      "  warnings.warn(msg, FutureWarning)\n"
     ]
    }
   ],
   "execution_count": 21
  },
  {
   "metadata": {
    "ExecuteTime": {
     "end_time": "2025-08-08T12:37:55.509673Z",
     "start_time": "2025-08-08T12:37:55.488711Z"
    }
   },
   "cell_type": "code",
   "source": "circuit1_noisy",
   "id": "b177a6a9ced04ccf",
   "outputs": [
    {
     "data": {
      "text/plain": [
       "                                                                                                                                                                                                                                                                                            ┌──┐                                                                                                                                                                                                                         ┌────┐\n",
       "(0, 0): ───PhXZ(a=0.5,x=0.5,z=0)───A(0.00041,0.00041,0.000411)───A(0.000806,0.000806,0.00246)────@───A(0.000655,0.000655,0.00318)───A(0.000806,0.000806,0.00246)────PhXZ(a=0.5,x=1,z=0)───────A(0.00041,0.00041,0.000411)───A(0.000806,0.000806,0.00246)────A(0.000307,0.000307,0.000464)────@─────A(0.000655,0.000655,0.00318)───A(0.000307,0.000307,0.000464)───A(0.000806,0.000806,0.00246)───────────────────────────────────────────────────────────A(0.000307,0.000307,0.000464)───A(0.000806,0.000806,0.00246)─────@───────A(0.000655,0.000655,0.00318)───A(0.000806,0.000806,0.00246)────A(0.000307,0.000307,0.000464)─────────────────────────────────────────────────────────\n",
       "                                                                                                 │                                                                                                                                                                                           │                                                                                                                                                                                                                            │\n",
       "(0, 1): ───PhXZ(a=0.5,x=0.5,z=0)───A(0.00041,0.00041,0.000411)───A(0.000307,0.000307,0.000464)───@───A(0.000655,0.000655,0.00318)───A(0.000307,0.000307,0.000464)───PhXZ(a=0.5,x=0.5,z=1.0)───A(0.00041,0.00041,0.000411)───A(0.000307,0.000307,0.000464)───A(0.000307,0.000307,0.000464)────┼@────A(0.000655,0.000655,0.00318)───A(0.000307,0.000307,0.000464)───A(0.000307,0.000307,0.000464)──────────────────────────────────────────────────────────A(0.000307,0.000307,0.000464)───A(0.000806,0.000806,0.00246)─────┼@──────A(0.000655,0.000655,0.00318)───A(0.000806,0.000806,0.00246)────A(0.000307,0.000307,0.000464)─────────────────────────────────────────────────────────\n",
       "                                                                                                                                                                                                                                                                                             ││                                                                                                                                                                                                                           ││\n",
       "(0, 2): ─────────────────────────────────────────────────────────A(0.000307,0.000307,0.000464)───────A(0.000515,0.000515,0.00218)───A(0.000307,0.000307,0.000464)───PhXZ(a=0.5,x=-0.5,z=0)────A(0.00041,0.00041,0.000411)───A(0.000307,0.000307,0.000464)───A(0.000307,0.000307,0.000464)────@┼────A(0.000655,0.000655,0.00318)───A(0.000307,0.000307,0.000464)───A(0.000307,0.000307,0.000464)───PhXZ(a=0.5,x=0.5,z=0)────A(0.00041,0.00041,0.000411)───A(0.000307,0.000307,0.000464)───A(0.000307,0.000307,0.000464)────┼┼@─────A(0.000655,0.000655,0.00318)───A(0.000307,0.000307,0.000464)───A(0.000307,0.000307,0.000464)─────────────────────────────────────────────────────────\n",
       "                                                                                                                                                                                                                                                                                              │                                                                                                                                                                                                                           │││\n",
       "(1, 0): ─────────────────────────────────────────────────────────A(0.000307,0.000307,0.000464)───────A(0.000515,0.000515,0.00218)───A(0.000307,0.000307,0.000464)───PhXZ(a=0.5,x=-0.5,z=0)────A(0.00041,0.00041,0.000411)───A(0.000307,0.000307,0.000464)───A(0.000806,0.000806,0.00246)──────@────A(0.000655,0.000655,0.00318)───A(0.000806,0.000806,0.00246)────A(0.000307,0.000307,0.000464)───PhXZ(a=0.5,x=0.5,z=0)────A(0.00041,0.00041,0.000411)───A(0.000307,0.000307,0.000464)───A(0.000806,0.000806,0.00246)─────┼┼┼@────A(0.000655,0.000655,0.00318)───A(0.000806,0.000806,0.00246)────A(0.000307,0.000307,0.000464)─────────────────────────────────────────────────────────\n",
       "                                                                                                                                                                                                                                                                                                                                                                                                                                                                                                                          ││││\n",
       "(1, 1): ─────────────────────────────────────────────────────────A(0.000307,0.000307,0.000464)───────A(0.000515,0.000515,0.00218)───A(0.000307,0.000307,0.000464)───────────────────────────────────────────────────────────A(0.000307,0.000307,0.000464)───A(0.000307,0.000307,0.000464)──────────A(0.000515,0.000515,0.00218)───A(0.000307,0.000307,0.000464)───A(0.000307,0.000307,0.000464)───PhXZ(a=0.5,x=-0.5,z=0)───A(0.00041,0.00041,0.000411)───A(0.000307,0.000307,0.000464)───A(0.000307,0.000307,0.000464)────@┼┼┼────A(0.000655,0.000655,0.00318)───A(0.000307,0.000307,0.000464)───A(0.000307,0.000307,0.000464)───PhXZ(a=0.5,x=0.5,z=0)───A(0.00041,0.00041,0.000411)───\n",
       "                                                                                                                                                                                                                                                                                                                                                                                                                                                                                                                           │││\n",
       "(1, 2): ─────────────────────────────────────────────────────────A(0.000307,0.000307,0.000464)───────A(0.000515,0.000515,0.00218)───A(0.000307,0.000307,0.000464)───────────────────────────────────────────────────────────A(0.000307,0.000307,0.000464)───A(0.000307,0.000307,0.000464)──────────A(0.000515,0.000515,0.00218)───A(0.000307,0.000307,0.000464)───A(0.000307,0.000307,0.000464)───PhXZ(a=0.5,x=-0.5,z=0)───A(0.00041,0.00041,0.000411)───A(0.000307,0.000307,0.000464)───A(0.000307,0.000307,0.000464)─────@┼┼────A(0.000655,0.000655,0.00318)───A(0.000307,0.000307,0.000464)───A(0.000307,0.000307,0.000464)───PhXZ(a=0.5,x=0.5,z=0)───A(0.00041,0.00041,0.000411)───\n",
       "                                                                                                                                                                                                                                                                                                                                                                                                                                                                                                                            ││\n",
       "(2, 0): ─────────────────────────────────────────────────────────A(0.000307,0.000307,0.000464)───────A(0.000515,0.000515,0.00218)───A(0.000307,0.000307,0.000464)───────────────────────────────────────────────────────────A(0.000307,0.000307,0.000464)───A(0.000307,0.000307,0.000464)──────────A(0.000515,0.000515,0.00218)───A(0.000307,0.000307,0.000464)───A(0.000307,0.000307,0.000464)───PhXZ(a=0.5,x=-0.5,z=0)───A(0.00041,0.00041,0.000411)───A(0.000806,0.000806,0.00246)────A(0.000307,0.000307,0.000464)──────@┼────A(0.000655,0.000655,0.00318)───A(0.000307,0.000307,0.000464)───A(0.000806,0.000806,0.00246)────PhXZ(a=0.5,x=0.5,z=0)───A(0.00041,0.00041,0.000411)───\n",
       "                                                                                                                                                                                                                                                                                                                                                                                                                                                                                                                             │\n",
       "(2, 1): ─────────────────────────────────────────────────────────A(0.000307,0.000307,0.000464)───────A(0.000515,0.000515,0.00218)───A(0.000307,0.000307,0.000464)───────────────────────────────────────────────────────────A(0.000307,0.000307,0.000464)───A(0.000307,0.000307,0.000464)──────────A(0.000515,0.000515,0.00218)───A(0.000307,0.000307,0.000464)───A(0.000307,0.000307,0.000464)───PhXZ(a=0.5,x=-0.5,z=0)───A(0.00041,0.00041,0.000411)───A(0.000307,0.000307,0.000464)───A(0.000307,0.000307,0.000464)───────@────A(0.000655,0.000655,0.00318)───A(0.000307,0.000307,0.000464)───A(0.000307,0.000307,0.000464)───PhXZ(a=0.5,x=0.5,z=0)───A(0.00041,0.00041,0.000411)───\n",
       "                                                                                                                                                                                                                                                                                            └──┘                                                                                                                                                                                                                         └────┘"
      ],
      "text/html": [
       "<pre style=\"overflow: auto; white-space: pre;\">                                                                                                                                                                                                                                                                                            ┌──┐                                                                                                                                                                                                                         ┌────┐\n",
       "(0, 0): ───PhXZ(a=0.5,x=0.5,z=0)───A(0.00041,0.00041,0.000411)───A(0.000806,0.000806,0.00246)────@───A(0.000655,0.000655,0.00318)───A(0.000806,0.000806,0.00246)────PhXZ(a=0.5,x=1,z=0)───────A(0.00041,0.00041,0.000411)───A(0.000806,0.000806,0.00246)────A(0.000307,0.000307,0.000464)────@─────A(0.000655,0.000655,0.00318)───A(0.000307,0.000307,0.000464)───A(0.000806,0.000806,0.00246)───────────────────────────────────────────────────────────A(0.000307,0.000307,0.000464)───A(0.000806,0.000806,0.00246)─────@───────A(0.000655,0.000655,0.00318)───A(0.000806,0.000806,0.00246)────A(0.000307,0.000307,0.000464)─────────────────────────────────────────────────────────\n",
       "                                                                                                 │                                                                                                                                                                                           │                                                                                                                                                                                                                            │\n",
       "(0, 1): ───PhXZ(a=0.5,x=0.5,z=0)───A(0.00041,0.00041,0.000411)───A(0.000307,0.000307,0.000464)───@───A(0.000655,0.000655,0.00318)───A(0.000307,0.000307,0.000464)───PhXZ(a=0.5,x=0.5,z=1.0)───A(0.00041,0.00041,0.000411)───A(0.000307,0.000307,0.000464)───A(0.000307,0.000307,0.000464)────┼@────A(0.000655,0.000655,0.00318)───A(0.000307,0.000307,0.000464)───A(0.000307,0.000307,0.000464)──────────────────────────────────────────────────────────A(0.000307,0.000307,0.000464)───A(0.000806,0.000806,0.00246)─────┼@──────A(0.000655,0.000655,0.00318)───A(0.000806,0.000806,0.00246)────A(0.000307,0.000307,0.000464)─────────────────────────────────────────────────────────\n",
       "                                                                                                                                                                                                                                                                                             ││                                                                                                                                                                                                                           ││\n",
       "(0, 2): ─────────────────────────────────────────────────────────A(0.000307,0.000307,0.000464)───────A(0.000515,0.000515,0.00218)───A(0.000307,0.000307,0.000464)───PhXZ(a=0.5,x=-0.5,z=0)────A(0.00041,0.00041,0.000411)───A(0.000307,0.000307,0.000464)───A(0.000307,0.000307,0.000464)────@┼────A(0.000655,0.000655,0.00318)───A(0.000307,0.000307,0.000464)───A(0.000307,0.000307,0.000464)───PhXZ(a=0.5,x=0.5,z=0)────A(0.00041,0.00041,0.000411)───A(0.000307,0.000307,0.000464)───A(0.000307,0.000307,0.000464)────┼┼@─────A(0.000655,0.000655,0.00318)───A(0.000307,0.000307,0.000464)───A(0.000307,0.000307,0.000464)─────────────────────────────────────────────────────────\n",
       "                                                                                                                                                                                                                                                                                              │                                                                                                                                                                                                                           │││\n",
       "(1, 0): ─────────────────────────────────────────────────────────A(0.000307,0.000307,0.000464)───────A(0.000515,0.000515,0.00218)───A(0.000307,0.000307,0.000464)───PhXZ(a=0.5,x=-0.5,z=0)────A(0.00041,0.00041,0.000411)───A(0.000307,0.000307,0.000464)───A(0.000806,0.000806,0.00246)──────@────A(0.000655,0.000655,0.00318)───A(0.000806,0.000806,0.00246)────A(0.000307,0.000307,0.000464)───PhXZ(a=0.5,x=0.5,z=0)────A(0.00041,0.00041,0.000411)───A(0.000307,0.000307,0.000464)───A(0.000806,0.000806,0.00246)─────┼┼┼@────A(0.000655,0.000655,0.00318)───A(0.000806,0.000806,0.00246)────A(0.000307,0.000307,0.000464)─────────────────────────────────────────────────────────\n",
       "                                                                                                                                                                                                                                                                                                                                                                                                                                                                                                                          ││││\n",
       "(1, 1): ─────────────────────────────────────────────────────────A(0.000307,0.000307,0.000464)───────A(0.000515,0.000515,0.00218)───A(0.000307,0.000307,0.000464)───────────────────────────────────────────────────────────A(0.000307,0.000307,0.000464)───A(0.000307,0.000307,0.000464)──────────A(0.000515,0.000515,0.00218)───A(0.000307,0.000307,0.000464)───A(0.000307,0.000307,0.000464)───PhXZ(a=0.5,x=-0.5,z=0)───A(0.00041,0.00041,0.000411)───A(0.000307,0.000307,0.000464)───A(0.000307,0.000307,0.000464)────@┼┼┼────A(0.000655,0.000655,0.00318)───A(0.000307,0.000307,0.000464)───A(0.000307,0.000307,0.000464)───PhXZ(a=0.5,x=0.5,z=0)───A(0.00041,0.00041,0.000411)───\n",
       "                                                                                                                                                                                                                                                                                                                                                                                                                                                                                                                           │││\n",
       "(1, 2): ─────────────────────────────────────────────────────────A(0.000307,0.000307,0.000464)───────A(0.000515,0.000515,0.00218)───A(0.000307,0.000307,0.000464)───────────────────────────────────────────────────────────A(0.000307,0.000307,0.000464)───A(0.000307,0.000307,0.000464)──────────A(0.000515,0.000515,0.00218)───A(0.000307,0.000307,0.000464)───A(0.000307,0.000307,0.000464)───PhXZ(a=0.5,x=-0.5,z=0)───A(0.00041,0.00041,0.000411)───A(0.000307,0.000307,0.000464)───A(0.000307,0.000307,0.000464)─────@┼┼────A(0.000655,0.000655,0.00318)───A(0.000307,0.000307,0.000464)───A(0.000307,0.000307,0.000464)───PhXZ(a=0.5,x=0.5,z=0)───A(0.00041,0.00041,0.000411)───\n",
       "                                                                                                                                                                                                                                                                                                                                                                                                                                                                                                                            ││\n",
       "(2, 0): ─────────────────────────────────────────────────────────A(0.000307,0.000307,0.000464)───────A(0.000515,0.000515,0.00218)───A(0.000307,0.000307,0.000464)───────────────────────────────────────────────────────────A(0.000307,0.000307,0.000464)───A(0.000307,0.000307,0.000464)──────────A(0.000515,0.000515,0.00218)───A(0.000307,0.000307,0.000464)───A(0.000307,0.000307,0.000464)───PhXZ(a=0.5,x=-0.5,z=0)───A(0.00041,0.00041,0.000411)───A(0.000806,0.000806,0.00246)────A(0.000307,0.000307,0.000464)──────@┼────A(0.000655,0.000655,0.00318)───A(0.000307,0.000307,0.000464)───A(0.000806,0.000806,0.00246)────PhXZ(a=0.5,x=0.5,z=0)───A(0.00041,0.00041,0.000411)───\n",
       "                                                                                                                                                                                                                                                                                                                                                                                                                                                                                                                             │\n",
       "(2, 1): ─────────────────────────────────────────────────────────A(0.000307,0.000307,0.000464)───────A(0.000515,0.000515,0.00218)───A(0.000307,0.000307,0.000464)───────────────────────────────────────────────────────────A(0.000307,0.000307,0.000464)───A(0.000307,0.000307,0.000464)──────────A(0.000515,0.000515,0.00218)───A(0.000307,0.000307,0.000464)───A(0.000307,0.000307,0.000464)───PhXZ(a=0.5,x=-0.5,z=0)───A(0.00041,0.00041,0.000411)───A(0.000307,0.000307,0.000464)───A(0.000307,0.000307,0.000464)───────@────A(0.000655,0.000655,0.00318)───A(0.000307,0.000307,0.000464)───A(0.000307,0.000307,0.000464)───PhXZ(a=0.5,x=0.5,z=0)───A(0.00041,0.00041,0.000411)───\n",
       "                                                                                                                                                                                                                                                                                            └──┘                                                                                                                                                                                                                         └────┘</pre>"
      ]
     },
     "execution_count": 22,
     "metadata": {},
     "output_type": "execute_result"
    }
   ],
   "execution_count": 22
  },
  {
   "metadata": {},
   "cell_type": "markdown",
   "source": "This geometry allows all the moves to be done in parallel, minimizing the total amount of sitter error over the course of the circuit. Add image from Pedro",
   "id": "beaa45f1cb7dadda"
  },
  {
   "cell_type": "markdown",
   "id": "43e70f6c",
   "metadata": {},
   "source": [
    "Canonical circuit we will use for this example: Trotterization of 1d Ising."
   ]
  },
  {
   "cell_type": "code",
   "id": "1805a747",
   "metadata": {},
   "source": [
    "import bloqade\n",
    "import bloqade.squin\n",
    "import kirin\n",
    "from kirin.dialects.ilist import IList\n",
    "\n",
    "\n",
    "@bloqade.squin.kernel\n",
    "def bloqade_trotter(qubits: IList, steps: int, dt: float = 0.01, J: float = 1, h: float = 1):\n",
    "    \"\"\"\n",
    "    Main function that runs the Trotter circuit for a given number of steps\n",
    "    \"\"\"\n",
    "    for _ in range(steps):\n",
    "        zz = bloqade.squin.op.zzpow(dt * J)\n",
    "        x = bloqade.squin.op.xpow(dt * h)\n",
    "        for i in range(0, len(qubits) - 1, 2):\n",
    "            bloqade.squin.op.apply(zz, qubits[i], qubits[i + 1])\n",
    "        for i in range(1, len(qubits) - 1, 2):\n",
    "            bloqade.squin.op.apply(zz, qubits[i], qubits[i + 1])\n",
    "        for i in range(0, len(qubits)):\n",
    "            bloqade.squin.op.apply(x, qubits[i])\n",
    "\n",
    "\n",
    "def trotter_builder(nqubits: int,\n",
    "                    steps: int = 100,\n",
    "                    dt: float = 0.01,\n",
    "                    J: float = 1,\n",
    "                    h: float = 1) -> kirin.ir.Method:\n",
    "    \"\"\"\n",
    "    Builder function to create a Trotter circuit with the specified parameters.\n",
    "\n",
    "    Inputs:\n",
    "        nqubits: Number of qubits in the circuit.\n",
    "        steps: Number of Trotter steps to perform.\n",
    "        dt: Time step for the Trotter evolution.\n",
    "        J: Coupling strength for the ZZ interaction.\n",
    "        h: Strength of the X field.\n",
    "    Returns:\n",
    "        A kernel function with no inputs and returns the qubits after the Trotter evolution.\n",
    "    \"\"\"\n",
    "\n",
    "    def main():\n",
    "        qubits = bloqade.squin.qubit.create(nqubits)\n",
    "        bloqade_trotter(qubits, steps, dt, J, h)\n",
    "        return qubits\n",
    "\n",
    "    # Enforce the CZ + XYphase structure with a compiler pass\n",
    "    main2 = bloqade.squin.passes.CZGateSet()(main)\n",
    "\n",
    "    return main2"
   ],
   "outputs": [],
   "execution_count": null
  },
  {
   "cell_type": "markdown",
   "id": "7917fe68",
   "metadata": {},
   "source": [
    "Now that we have specified the circuit, we can start doing analysis...\n",
    "\n",
    "Simplest analysis: counting the number of gates and estimating a utility function"
   ]
  },
  {
   "cell_type": "markdown",
   "id": "e53c136d",
   "metadata": {},
   "source": [
    "## Log fidelity analysis\n",
    "Count the number of gates; log fidelity is simply a weighted sum/dot product."
   ]
  },
  {
   "cell_type": "code",
   "id": "d2a415c7",
   "metadata": {
    "ExecuteTime": {
     "end_time": "2025-08-07T16:38:16.518881Z",
     "start_time": "2025-08-07T16:38:16.480478Z"
    }
   },
   "source": [
    "# Only works with no mid-circuit feed-forward? Optionally, run statevector evolution\n",
    "# and sample from the distribution to get a monte carlo estimate of the counting.\n",
    "noise_interpreter = bloqade.circuit.interpreters.noise_counting()\n",
    "\n",
    "report = noise_interpreter.run(trotter_builder(10, steps=10, dt=0.01, J=1, h=1))\n",
    "report.print()\n",
    "# Number of qubits:        10\n",
    "# Number of 2 qubit gates: 90\n",
    "# Number of 1 qubit gates: 100\n",
    "# Number of touches:       50\n",
    "# Number of moves:         10\n",
    "\n",
    "error_model = bloqade.circuit.GeminiErrorModel(scale=0.7)\n",
    "log_fidelity: float = report.log_fidelity(error_model)\n",
    "print(f\"Log fidelity: {log_fidelity:.3f}\")\n",
    "# Log fidelity: -1.234"
   ],
   "outputs": [
    {
     "ename": "AttributeError",
     "evalue": "module 'bloqade' has no attribute 'circuit'",
     "output_type": "error",
     "traceback": [
      "\u001B[0;31m---------------------------------------------------------------------------\u001B[0m",
      "\u001B[0;31mAttributeError\u001B[0m                            Traceback (most recent call last)",
      "Cell \u001B[0;32mIn[9], line 3\u001B[0m\n\u001B[1;32m      1\u001B[0m \u001B[38;5;66;03m# Only works with no mid-circuit feed-forward? Optionally, run statevector evolution\u001B[39;00m\n\u001B[1;32m      2\u001B[0m \u001B[38;5;66;03m# and sample from the distribution to get a monte carlo estimate of the counting.\u001B[39;00m\n\u001B[0;32m----> 3\u001B[0m noise_interpreter \u001B[38;5;241m=\u001B[39m \u001B[43mbloqade\u001B[49m\u001B[38;5;241;43m.\u001B[39;49m\u001B[43mcircuit\u001B[49m\u001B[38;5;241m.\u001B[39minterpreters\u001B[38;5;241m.\u001B[39mnoise_counting()\n\u001B[1;32m      5\u001B[0m report \u001B[38;5;241m=\u001B[39m noise_interpreter\u001B[38;5;241m.\u001B[39mrun(trotter_builder(\u001B[38;5;241m10\u001B[39m, steps\u001B[38;5;241m=\u001B[39m\u001B[38;5;241m10\u001B[39m, dt\u001B[38;5;241m=\u001B[39m\u001B[38;5;241m0.01\u001B[39m, J\u001B[38;5;241m=\u001B[39m\u001B[38;5;241m1\u001B[39m, h\u001B[38;5;241m=\u001B[39m\u001B[38;5;241m1\u001B[39m))\n\u001B[1;32m      6\u001B[0m report\u001B[38;5;241m.\u001B[39mprint()\n",
      "\u001B[0;31mAttributeError\u001B[0m: module 'bloqade' has no attribute 'circuit'"
     ]
    }
   ],
   "execution_count": 9
  },
  {
   "cell_type": "markdown",
   "id": "456f758e",
   "metadata": {},
   "source": [
    "## Noise annotation in Cirq"
   ]
  },
  {
   "cell_type": "markdown",
   "id": "d15f4bb1",
   "metadata": {},
   "source": [
    "Reproduce and reference [cirq_tools](https://github.com/QuEraComputing/cirq_tools/)"
   ]
  },
  {
   "metadata": {},
   "cell_type": "markdown",
   "source": "### GHZ circuit example",
   "id": "18703cbc60b86e75"
  },
  {
   "metadata": {},
   "cell_type": "markdown",
   "source": [
    "cirq_tools.examples.ghz_with_noise.ipynb\n",
    "\n",
    "This shows results for the 1 zone model, the 2 zone model, and the model that includes a notion of geometry and AOD constraints."
   ],
   "id": "5bee64ca818600ff"
  },
  {
   "metadata": {},
   "cell_type": "markdown",
   "source": "We can also run the TFIM dynamics through the noise model to stay on theme. tcochran could do this.",
   "id": "ddb56f06c5ccedd1"
  },
  {
   "cell_type": "markdown",
   "id": "953e9567",
   "metadata": {},
   "source": [
    "## Noise annotation in Bloqade"
   ]
  },
  {
   "cell_type": "code",
   "execution_count": null,
   "id": "462c2ab8",
   "metadata": {},
   "outputs": [],
   "source": [
    "raise NotImplementedError(\"We cannot do noise simulation with bloqade\")"
   ]
  },
  {
   "cell_type": "markdown",
   "id": "edd4adbd",
   "metadata": {},
   "source": []
  }
 ],
 "metadata": {
  "language_info": {
   "name": "python"
  }
 },
 "nbformat": 4,
 "nbformat_minor": 5
}
