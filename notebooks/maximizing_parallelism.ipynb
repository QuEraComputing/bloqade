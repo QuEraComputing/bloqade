{
 "cells": [
  {
   "cell_type": "markdown",
   "id": "a77be984",
   "metadata": {},
   "source": [
    "# Maximizing parallelism with directed acyclic graphs, similarity, and integer linear programming"
   ]
  },
  {
   "cell_type": "markdown",
   "id": "75b3a286",
   "metadata": {},
   "source": []
  }
 ],
 "metadata": {
  "language_info": {
   "name": "python"
  }
 },
 "nbformat": 4,
 "nbformat_minor": 5
}
